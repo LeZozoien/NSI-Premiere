{
 "cells": [
  {
   "cell_type": "markdown",
   "metadata": {},
   "source": [
    "# Les fonctions mathématiques : \n",
    "## Ecrire une fonction :\n",
    "\n",
    "qui retourne `f(x) = 27x3-27x²-18x+8` et affiche la valeur de `f( ???) = ??` .\n",
    "Tester afficher f(0),f(0.5),f(0.25),f(0.375), f(1) et f(2)  \n",
    "Nous allons, afficher cette courbe pour cela, il faudra utiliser la librairie matplotlib en mettant en début de programme `import matplotlib.pyplot as plt`. On définit deux listes `X` et `Y` qui vont contenir les valeurs de `X` et `Y= f(X)` en codant `X=[]` et `Y=[]`   \n",
    "Pour ajouter un élément dans la liste on fera : `X.append(x)` et `x= -1` puis on l’incrémentera de `0.1` jusqu’à `2`. Donc on écrira : "
   ]
  },
  {
   "cell_type": "code",
   "execution_count": null,
   "metadata": {},
   "outputs": [],
   "source": [
    "while x<=2 :\n",
    "    X.append(x) #on ajoute x à la liste\n",
    "    x=x+0.1        #on incrémente x de 0.1 "
   ]
  },
  {
   "cell_type": "markdown",
   "metadata": {},
   "source": [
    "> Rajouter les lignes de codes pour x,X et Y "
   ]
  },
  {
   "cell_type": "code",
   "execution_count": null,
   "metadata": {},
   "outputs": [],
   "source": [
    "X = []"
   ]
  },
  {
   "cell_type": "markdown",
   "metadata": {},
   "source": [
    "Pour tracer le graphe, on codera : `plt.plot(X,Y,) #Placement des points sur la graphique`\n",
    " puis : `plt.show() #Affichage du graphe`  \n",
    "\n",
    " Ajouter le graphique et son affichage  "
   ]
  },
  {
   "cell_type": "code",
   "execution_count": 1,
   "metadata": {},
   "outputs": [],
   "source": [
    "from matplotlib import *\n",
    "\n",
    "def f(x):\n",
    "    return 27*x**3 - 27*x**2 - 18*x + 8\n",
    "\n",
    "X = [0.5 * x for x in range(0, 9)]\n",
    "Y = [f(x) for x in X]"
   ]
  },
  {
   "cell_type": "markdown",
   "metadata": {},
   "source": [
    "Ecrire une fonction qui retourne la factorielle (se représente par un !) d'un nombre entier `N`. On rappelle que : `N ! = 1×2×...×N-1×N`. Afficher `2!; 10 !; 20 !; 50 !`  \n",
    " Comparer les résultats avec `factorial()` du module math à importer auparavant. "
   ]
  },
  {
   "cell_type": "code",
   "execution_count": 14,
   "metadata": {},
   "outputs": [
    {
     "name": "stdout",
     "output_type": "stream",
     "text": [
      "1 1\n",
      "2 2\n",
      "3 6\n",
      "4 24\n",
      "5 120\n",
      "6 720\n",
      "7 5040\n",
      "8 40320\n",
      "9 362880\n",
      "10 3628800\n",
      "11 39916800\n",
      "12 479001600\n",
      "13 6227020800\n",
      "14 87178291200\n",
      "15 1307674368000\n",
      "16 20922789888000\n",
      "17 355687428096000\n",
      "18 6402373705728000\n",
      "6402373705728000\n",
      "6402373705728000\n"
     ]
    }
   ],
   "source": [
    "from math import factorial\n",
    "\n",
    "\n",
    "def fact(x):\n",
    "    a = 1\n",
    "    for i in range(1, x+1): a *= i\n",
    "    return a\n",
    "\n",
    "print(fact(18))"
   ]
  },
  {
   "cell_type": "markdown",
   "metadata": {},
   "source": [
    ">  A la place d’afficher des valeurs définies dans le programme, modifier le afin qu’on demande à l’utilisateur la valeur de N dont il veut la factorielle. Tester avec 0 !,10 !-10 ! "
   ]
  },
  {
   "cell_type": "code",
   "execution_count": null,
   "metadata": {},
   "outputs": [],
   "source": []
  },
  {
   "cell_type": "markdown",
   "metadata": {},
   "source": [
    "Générateur de mot de passe : \n",
    "> A l'aide de la fonction `randint()` du module random, écrire une fonction qui retourne un mot de passe de longueur `N` (chiffres, lettres minuscules ou majuscules). On donne : `chaine = '0123456789ABCDEFGHIJKLMNOPQRSTUVWXYZabcdefghijklmnopqrstuvwxyz'`   \n",
    "> afficher un mot_de_passe(6) et un mot_de_passe(10). "
   ]
  },
  {
   "cell_type": "code",
   "execution_count": 15,
   "metadata": {},
   "outputs": [
    {
     "name": "stdout",
     "output_type": "stream",
     "text": [
      "eNhHfvbr6Y\n"
     ]
    }
   ],
   "source": [
    "from random import randrange\n",
    "\n",
    "chaine = '0123456789ABCDEFGHIJKLMNOPQRSTUVWXYZabcdefghijklmnopqrstuvwxyz'\n",
    "\n",
    "def randmdp(length):\n",
    "    mdp = \"\"\n",
    "    for i in range(length):\n",
    "        mdp += str(chaine[randrange(0, len(chaine))])\n",
    "\n",
    "    return mdp\n",
    "\n",
    "print(randmdp(10))"
   ]
  },
  {
   "cell_type": "markdown",
   "metadata": {},
   "source": [
    ">  Grille de l’Euro Millions :  \n",
    "> Ecrire une fonction qui retourne une grille de numéros du jeu Euro Millions. Il faut 5 numéros entre 1 et 50 et 2 numéros chance entre 1 et 11. On utilisera la fonction `sample()` du module `random` à importer au début du programme en codant (`sample(tabVal,nbVal)`). Il va choisir `nbValeurs` dans la `tabVal`. Exemple : `tabVal=[0,1,2,3,4,5]` et `nbVal=3`  alors il choisira 3 valeurs au hasard dans tabVal par exemple [1,4,2]. "
   ]
  },
  {
   "cell_type": "code",
   "execution_count": 23,
   "metadata": {},
   "outputs": [
    {
     "name": "stdout",
     "output_type": "stream",
     "text": [
      "[1, 5, 6, 18, 22] [0, 9]\n"
     ]
    }
   ],
   "source": [
    "from random import randint\n",
    "\n",
    "def tirage():\n",
    "\n",
    "    # Initialisation des listes à 0\n",
    "    nb_gagnants = []\n",
    "    chance_gagnants = []\n",
    "\n",
    "    # Tirage des 5 nombres classiques\n",
    "    while len(nb_gagnants)<5:\n",
    "        a = randint(0, 50)\n",
    "        if not a in nb_gagnants: # Verification si la valeur est déja dans la liste\n",
    "            nb_gagnants.append(a)\n",
    "\n",
    "    # Tirages des 2 nombres chance\n",
    "    while len(chance_gagnants)<2:\n",
    "        a = randint(0, 11)\n",
    "        if not a in chance_gagnants: # Verification si la valeur est déja dans la liste\n",
    "            chance_gagnants.append(a)\n",
    "\n",
    "    # Renvoi des informations\n",
    "    return nb_gagnants, chance_gagnants\n",
    "\n",
    "tirage_classique, tirage_chance = tirage()\n",
    "\n",
    "# Tri des listes\n",
    "tirage_classique, tirage_chance = sorted(tirage_classique), sorted(tirage_chance)\n",
    "\n",
    "print(tirage_classique, tirage_chance)"
   ]
  }
 ],
 "metadata": {
  "kernelspec": {
   "display_name": "Python 3",
   "language": "python",
   "name": "python3"
  },
  "language_info": {
   "codemirror_mode": {
    "name": "ipython",
    "version": 3
   },
   "file_extension": ".py",
   "mimetype": "text/x-python",
   "name": "python",
   "nbconvert_exporter": "python",
   "pygments_lexer": "ipython3",
   "version": "3.10.7"
  }
 },
 "nbformat": 4,
 "nbformat_minor": 2
}
