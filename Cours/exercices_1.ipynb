{
 "cells": [
  {
   "cell_type": "markdown",
   "metadata": {},
   "source": [
    "Le numéro de sécurité sociale est constitué de 13 chiffres auquel s'ajoute la clé de contrôle (2 chiffres).  \n",
    "Exemple : 1 89 11 26 108 268 91  \n",
    "La clé de contrôle est calculée par la formule : 97 - (numéro de sécurité sociale modulo 97) Retrouver la clé de contrôle de votre numéro de sécurité sociale.  \n",
    "Vérifier avec votre numéro de sécurité social.  \n",
    "Quel est l'intérêt de la clé de contrôle ?"
   ]
  },
  {
   "cell_type": "code",
   "execution_count": 1,
   "metadata": {},
   "outputs": [
    {
     "name": "stdout",
     "output_type": "stream",
     "text": [
      "85\n"
     ]
    }
   ],
   "source": [
    "numero_secu = 189112610826891\n",
    "cle = 97 - (numero_secu % 97)\n",
    "print(cle)"
   ]
  },
  {
   "cell_type": "markdown",
   "metadata": {},
   "source": [
    "Afficher la valeur numérique de √(4,63 - 15/16)\n",
    "Comparer avec votre calculatrice."
   ]
  },
  {
   "cell_type": "code",
   "execution_count": null,
   "metadata": {},
   "outputs": [],
   "source": [
    "from math import *\n",
    "print(sqrt(4.63 - 15/16))"
   ]
  },
  {
   "cell_type": "markdown",
   "metadata": {},
   "source": [
    "A partir des deux variables prenom et nom demandées à l’utilisateur (fonction input), afficher les initiales (par exemple LM pour Léa Martin)."
   ]
  },
  {
   "cell_type": "code",
   "execution_count": 4,
   "metadata": {},
   "outputs": [
    {
     "name": "stdout",
     "output_type": "stream",
     "text": [
      "ertest\n"
     ]
    }
   ],
   "source": [
    "prenom = input(\"Quel est votre prénom\")\n",
    "nom = input(\"Quel est votre nom\")\n",
    "initiales = prenom[0]+nom[0]\n",
    "print(initiales)"
   ]
  },
  {
   "cell_type": "markdown",
   "metadata": {},
   "source": [
    "L'identifiant d'accès au réseau du lycée est construit de la manière suivante : deux premières lettres du prénom puis les 5 premiers caractères du nom (le tout en minuscule).  \n",
    "Exemple : Alexandre Lecouturier → allecou  \n",
    "A partir des deux variables prenom et nom demandées à l’utilisateur, construire l'identifiant et l’afficher.  \n",
    "Pour mettre une chaine de caractères en minuscules, il faut utiliser la méthode ```lower()``` (```chaine.lower()```)  \n",
    "Pour mettre une chaine de caractères en majuscules, il faut utiliser la méthode ```upper()``` (```chaine.upper()```)"
   ]
  },
  {
   "cell_type": "code",
   "execution_count": null,
   "metadata": {},
   "outputs": [],
   "source": [
    "prenom = input(\"Quel est votre prénom\")\n",
    "nom = input(\"Quel est votre nom\")\n",
    "identifiant = prenom[:2] + nom [:5]\n",
    "identifiant = identifiant.lower()\n",
    "print(identifiant)"
   ]
  }
 ],
 "metadata": {
  "kernelspec": {
   "display_name": "Python 3",
   "language": "python",
   "name": "python3"
  },
  "language_info": {
   "codemirror_mode": {
    "name": "ipython",
    "version": 3
   },
   "file_extension": ".py",
   "mimetype": "text/x-python",
   "name": "python",
   "nbconvert_exporter": "python",
   "pygments_lexer": "ipython3",
   "version": "3.10.7"
  },
  "orig_nbformat": 4
 },
 "nbformat": 4,
 "nbformat_minor": 2
}
