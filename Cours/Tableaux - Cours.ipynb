{
 "cells": [
  {
   "cell_type": "markdown",
   "metadata": {},
   "source": [
    "# Tableaux\n",
    "Dans les séquences précédentes, vous avez déjà utilisés des tableaux.  \n",
    "Le but de cette séquence est de :  \n",
    "* Lire et modifier les éléments d’un tableau grâce à leurs index ;  \n",
    "* Construire un tableau par compréhension ;  \n",
    "* Utiliser des tableaux pour représenter des matrices. "
   ]
  },
  {
   "cell_type": "markdown",
   "metadata": {},
   "source": [
    "## 1. Lire et modifier les éléments d’un tableau grâce à leurs index \n",
    "Nous allons employer le terme \"tableau\". Pour parler de ces \"tableaux\" les concepteurs de Python ont choisi d'utiliser le terme de \"list\" (\"liste\" en français). Les tableaux sont, comme les tuples, des séquences, mais à la différence des tuples, ils sont modifiables (on parle d'objets \"mutables\").  \n",
    "On rappelle qu’une liste se déclare :  ```L=[…,…,…,…]```  \n",
    "On rappelle aussi que pour avoir le nombre d’éléments d’une liste, il faut faire len(L) "
   ]
  },
  {
   "cell_type": "markdown",
   "metadata": {},
   "source": [
    "> #### Exo 1  \n",
    "> Écrire un programme qui créé une liste d’au moins 5 entiers comme `L=[8, 5, 6, 1, 17]` puis : \n",
    "> * afficher la valeur de L[4]  \n",
    "> * modifier la liste en remplaçant  L[1] par 17 et  L[3] par la somme des cases voisines  L[2] et L[4]   \n",
    "> * afficher 5 fois la valeur du dernier terme de la liste "
   ]
  },
  {
   "cell_type": "code",
   "execution_count": 5,
   "metadata": {},
   "outputs": [
    {
     "name": "stdout",
     "output_type": "stream",
     "text": [
      "[17, 17, 17, 17, 17]\n"
     ]
    }
   ],
   "source": [
    "my_list =[8, 5, 6, 1, 17]\n",
    "my_list[1], my_list[3] = 17, my_list[2]+my_list[4]\n",
    "print(5 * [my_list[-1]])"
   ]
  },
  {
   "cell_type": "markdown",
   "metadata": {},
   "source": [
    "> #### Exo 2 \n",
    "> Écrire un programme qui échange les valeurs de la première et de la dernière case d’une liste quelconque non vide et affiche le résultat.\n",
    "> \n",
    "> On donne l’algorithme suivant :  \n",
    "> `#utilisation d'une variable auxiliaire`  \n",
    "> `#aux=x`  \n",
    "> `#x=y`  \n",
    "> `#y=aux`  \n",
    "> \n",
    "> tester avec ```L=[6,12,18,5]```. "
   ]
  },
  {
   "cell_type": "code",
   "execution_count": 6,
   "metadata": {},
   "outputs": [
    {
     "name": "stdout",
     "output_type": "stream",
     "text": [
      "[5, 12, 18, 6]\n"
     ]
    }
   ],
   "source": [
    "my_list = [6, 12, 18, 5]\n",
    "\n",
    "aux = my_list[-1]\n",
    "my_list[-1] = my_list[0]\n",
    "my_list[0] = aux\n",
    "\n",
    "print(my_list)"
   ]
  },
  {
   "cell_type": "markdown",
   "metadata": {},
   "source": [
    "> #### Exo 3.  \n",
    "> Écrire un programme qui crée une liste d’entiers, puis qui affiche la liste en colonne.  \n",
    "> Tester avec ```L=[8,24,48,2,16]```. "
   ]
  },
  {
   "cell_type": "code",
   "execution_count": 7,
   "metadata": {},
   "outputs": [
    {
     "name": "stdout",
     "output_type": "stream",
     "text": [
      "[[8], [24], [48], [2], [16]]\n"
     ]
    }
   ],
   "source": [
    "L=[8,24,48,2,16]\n",
    "M = []\n",
    "\n",
    "for i in L:\n",
    "    M.append([i])\n",
    "\n",
    "print(M)"
   ]
  },
  {
   "cell_type": "markdown",
   "metadata": {},
   "source": [
    "> #### Exo 4  \n",
    "> Écrire un programme qui crée une liste d’entiers, puis qui compte le nombre de multiples de 3 présents dans la liste.  \n",
    "> Tester avec ```L=[8,24,48,2,16]```. "
   ]
  },
  {
   "cell_type": "code",
   "execution_count": null,
   "metadata": {},
   "outputs": [],
   "source": [
    "L=[8,24,48,2,16]\n",
    "x = 0\n",
    "for i in L:\n",
    "    if i%3 == 0:\n",
    "        x += 1\n",
    "print(x)"
   ]
  },
  {
   "cell_type": "markdown",
   "metadata": {},
   "source": [
    "> #### Exo 5\n",
    "> Écrire un programme qui crée une liste d’entiers, puis qui calcule la somme de toutes les valeurs paires de la liste.  \n",
    "> Tester avec ```L=[8,24,48,2,16]```. "
   ]
  },
  {
   "cell_type": "code",
   "execution_count": 8,
   "metadata": {},
   "outputs": [
    {
     "name": "stdout",
     "output_type": "stream",
     "text": [
      "98\n"
     ]
    }
   ],
   "source": [
    "L=[8,24,48,2,16]\n",
    "x = 0\n",
    "for i in L:\n",
    "    if i%2 == 0:\n",
    "        x += i\n",
    "print(x)"
   ]
  },
  {
   "cell_type": "markdown",
   "metadata": {},
   "source": [
    "> #### Exo 6\n",
    "> Écrire un programme qui crée une liste d’entiers, puis qui calcule le maximum et le minimum des éléments de la liste.  \n",
    "> On prendra au départ ```min=L[0]``` et ```max=L[0]``` puis on testera ```L[i]``` par rapport à min et max.  \n",
    "> Tester avec ```L=[8,24,48,2,16]```. "
   ]
  },
  {
   "cell_type": "code",
   "execution_count": 9,
   "metadata": {},
   "outputs": [
    {
     "name": "stdout",
     "output_type": "stream",
     "text": [
      "2 48\n"
     ]
    }
   ],
   "source": [
    "L=[8,24,48,2,16]\n",
    "min = L[0]\n",
    "max = L[0]\n",
    "\n",
    "for i in L:\n",
    "    if i>max:\n",
    "        max = i\n",
    "    elif i<min:\n",
    "        min = i\n",
    "\n",
    "print(min, max)"
   ]
  },
  {
   "cell_type": "markdown",
   "metadata": {},
   "source": [
    "> ### Exo 7\n",
    "> Écrire un programme qui crée une liste d’entiers, puis créer un booléen vraie si la moyenne arithmétique des valeurs de la liste est supérieure ou égale à 10.  \n",
    "> Tester avec ```L=[8,24,48,2,16]```. \n",
    "> "
   ]
  },
  {
   "cell_type": "code",
   "execution_count": 10,
   "metadata": {},
   "outputs": [
    {
     "name": "stdout",
     "output_type": "stream",
     "text": [
      "True\n"
     ]
    }
   ],
   "source": [
    "L=[8,24,48,2,16]\n",
    "def total(x):\n",
    "    total = 0\n",
    "    for i in range(len(x)):\n",
    "        total += x[int(i-1)]\n",
    "    return(total)\n",
    "\n",
    "\n",
    "def mean(x):\n",
    "    return(total(x)/frequency(x))\n",
    "\n",
    "\n",
    "def frequency(x):\n",
    "    return(len(x))\n",
    "\n",
    "print(mean(L)>=10)"
   ]
  },
  {
   "cell_type": "markdown",
   "metadata": {},
   "source": [
    "> ### Exo 8\n",
    "> Écrire un programme qui crée une liste d’entiers, puis qui affiche la liste à l’envers (sans créer une nouvelle liste).  \n",
    "> Tester avec ```L=[8,24,48,2,16]```. "
   ]
  },
  {
   "cell_type": "code",
   "execution_count": 16,
   "metadata": {},
   "outputs": [
    {
     "name": "stdout",
     "output_type": "stream",
     "text": [
      "[16, 2, 48, 24, 8]\n"
     ]
    }
   ],
   "source": [
    "L=[8,24,48,2,16]\n",
    "\n",
    "if len(L) % 2 == 0:\n",
    "    for i in range(int(len(L)/2)):\n",
    "        L[i], L[-1 * (i+1)] = L[-1 * (i+1)], L[i]\n",
    "else:\n",
    "    for i in range(int(len(L)/2-0.5)):\n",
    "        L[i], L[-1 * (i+1)] = L[-1 * (i+1)], L[i] \n",
    "print(L)"
   ]
  },
  {
   "cell_type": "markdown",
   "metadata": {},
   "source": [
    "> ### Exo 9\n",
    "> Écrire un programme qui crée une liste d’entiers, puis qui modifie la liste en augmentant de 1 la valeur de chaque élément de la liste.  \n",
    "> Tester avec ```L=[13,27,50,42,3]```. "
   ]
  },
  {
   "cell_type": "code",
   "execution_count": 27,
   "metadata": {},
   "outputs": [
    {
     "name": "stdout",
     "output_type": "stream",
     "text": [
      "[14, 28, 51, 43, 4]\n"
     ]
    }
   ],
   "source": [
    "L=[13,27,50,42,3]\n",
    "\n",
    "for i in range(len(L)):\n",
    "    L[i] += 1\n",
    "print(L)"
   ]
  },
  {
   "cell_type": "markdown",
   "metadata": {},
   "source": [
    "> ### Exo 10\n",
    ">  Écrire un programme qui crée une liste d’entiers, puis qui modifie la liste par permutation circulaire (Le premier élément se retrouve en dernière position, le deuxième en première etc….) \n",
    "> Tester avec ```L=[8,24,42,16]```. "
   ]
  },
  {
   "cell_type": "code",
   "execution_count": 21,
   "metadata": {},
   "outputs": [
    {
     "name": "stdout",
     "output_type": "stream",
     "text": [
      "[8, 42, 16, 24]\n"
     ]
    }
   ],
   "source": [
    "L=[8,24,42,16]\n",
    "for i in range(len(L)-1):\n",
    "    L[i], L[i-1] = L[i-1], L[i]\n",
    "\n",
    "print(L)"
   ]
  },
  {
   "cell_type": "markdown",
   "metadata": {},
   "source": [
    "> ### Exo 11\n",
    "> Écrire un programme qui crée une liste d’entiers, puis qui modifie la liste par miroir.  \n",
    "> Tester avec ```L=[8, 24, 42, 16]``` puis avec ```L = [8, 24, 48, 2, 16, 12]```. "
   ]
  },
  {
   "cell_type": "code",
   "execution_count": null,
   "metadata": {},
   "outputs": [],
   "source": []
  },
  {
   "cell_type": "markdown",
   "metadata": {},
   "source": [
    "> ### Exo 12\n",
    "> On dispose d’une liste ```L``` non vide de nombres. Créer une liste ```LC``` contenant les carrés des nombres de ```L```.  \n",
    "> Pour cela on utilisera la méthode ```LC.append(……)```  \n",
    "> Tester avec ```L=[8,27,42,17,4]```. "
   ]
  },
  {
   "cell_type": "code",
   "execution_count": null,
   "metadata": {},
   "outputs": [],
   "source": []
  },
  {
   "cell_type": "markdown",
   "metadata": {},
   "source": [
    "> ### Exo 13\n",
    "> On dispose maintenant de deux listes ```L1``` et ```L2```.  \n",
    "> Il s’agit de créer une liste :  \n",
    "> * ```L3``` identiques à ```L1``` dans laquelle on a supprimé la première valeur  \n",
    "> * ```L4``` contenant les valeurs ```L1``` puis celles de ```L2```  \n",
    "> \n",
    "> Tester avec ```L1 = [8.3, 27.2, 42, 17, 4.1]``` et ```L2 = [15, 5.9, 59, 10.1, 2] ```"
   ]
  },
  {
   "cell_type": "code",
   "execution_count": null,
   "metadata": {},
   "outputs": [],
   "source": []
  },
  {
   "cell_type": "markdown",
   "metadata": {},
   "source": [
    "## 2 Construire un tableau par compréhension\n",
    "Nous avons vu qu'il était possible de \"remplir\" un tableau en renseignant les éléments du tableau les uns après les autres ou encore à l'aide de la méthode \"append\".  \n",
    "Il est aussi possible d'obtenir exactement le même résultat en une seule ligne grâce à la compréhension de tableau.  \n",
    "Exemple : la création d’un tableau de 5 éléments dont les valeurs sont ```[0, 1, 2, 3, 4]```  \n",
    "Par compréhension, on pourra écrire : ```mon_tab = [p for p in range(0, 5)]```  \n",
    "Les compréhensions de tableau permettent de rajouter une condition (if) :  \n",
    "```L = [1, 7, 9, 15, 5, 20, 10, 8]```  \n",
    "```mon_tab = [p for p in L if p > 10]``` :  mon_tab ne gardera que les valeurs de L supérieur à 10 : [15, 20]. "
   ]
  },
  {
   "cell_type": "markdown",
   "metadata": {},
   "source": [
    "> #### Exo 14\n",
    "> Écrire un programme qui crée une liste d’entiers (mon_tab) par compréhension qui valent le carré des éléments < 10.   \n",
    "> Tester avec ```L=[ 1, 7, 9, 15, 5, 20, 10, 8]```. "
   ]
  },
  {
   "cell_type": "code",
   "execution_count": null,
   "metadata": {},
   "outputs": [],
   "source": []
  },
  {
   "cell_type": "markdown",
   "metadata": {},
   "source": [
    "> #### Exo 15\n",
    ">  Écrire un programme qui crée une liste d’entiers (```L```) par compréhension de 0 à 15  \n",
    "> puis une liste ```L_pair``` qui par compréhension calcule ```2*n``` des valeurs ```n``` paire de ```L```.  \n",
    "> Afficher ```L``` et ```L_pair```  \n",
    "> Tester"
   ]
  },
  {
   "cell_type": "code",
   "execution_count": null,
   "metadata": {},
   "outputs": [],
   "source": []
  },
  {
   "cell_type": "markdown",
   "metadata": {},
   "source": [
    "> #### Exo 16\n",
    "> Écrire un programme qui crée une liste d’entiers (L) par compréhension de 0 à 15  \n",
    "> puis les chiffres pairs seront multipliés par deux, les chiffres impairs par trois.  \n",
    "> Tester. "
   ]
  },
  {
   "cell_type": "markdown",
   "metadata": {},
   "source": [
    "> #### Exo 17\n",
    "> Écrire un programme qui crée une liste d’entiers `L= [[0, 'a'], [2, 'b'], [3, 'c']]`  \n",
    "> puis multiplier les nombres entiers par deux et les strings par trois.  \n",
    "> Tester. "
   ]
  },
  {
   "cell_type": "code",
   "execution_count": null,
   "metadata": {},
   "outputs": [],
   "source": []
  },
  {
   "cell_type": "markdown",
   "metadata": {},
   "source": [
    "## 3. Utiliser des tableaux pour représenter des matrices\n",
    "Chaque élément d’un tableau peut être un tableau, on parle de tableau de tableau.  \n",
    "Exemple : ```m = [[1, 3, 4], [5 ,6 ,8], [2, 1, 3], [7, 8, 15]]```  \n",
    "Pour que cela soit plus lisible, on la code plutôt de la façon suivante :  \n",
    "`m = [[1, 3, 4],`\n",
    "\n",
    "`     [5 ,6 ,8],`\n",
    "\n",
    "`     [2, 1, 3],`\n",
    "\n",
    "`      [7, 8, 15]]`  \n",
    "Il est évidemment possible d'utiliser les indices de position avec ces \"tableaux de tableaux\". Il faut considérer notre tableau de tableaux comme une matrice, c'est à dire en utilisant les notions de \"ligne\" et de \"colonne\".  \n",
    "Dans la matrice ci-dessus : 1, 3, 4 constituent la première ligne  \n",
    "5, 6, 8 constituent la deuxième ligne  \n",
    "2, 1, 3 constituent la troisième ligne  \n",
    "7, 8, 15 constituent la quatrième ligne \n",
    "\n",
    "et \n",
    "\n",
    "1, 5, 2, 7 constituent la première colonne  \n",
    "3, 6, 1, 8 constituent la deuxième colonne  \n",
    "4, 8, 3, 15 constituent la troisième colonne  \n",
    "\n",
    "Pour cibler un élément particulier de la matrice, on utilise la notation avec \"doubles crochets\" : `m[ligne][colonne]` (sans perdre de vu que la première ligne et la première colonne ont pour indice 0). "
   ]
  },
  {
   "cell_type": "markdown",
   "metadata": {},
   "source": [
    "> #### Exo 18 \n",
    "> Ecrire un programme qui retourne la somme de deux matrice `M1` et `M2` de même dimension.  \n",
    "> Tester et tester avec `M1= [ [ 2 , 5 , 1 ] , [ 0 , 1 , 2 ] ]` et  `M2 = [ [ 20 , -5 , 11 ] , [ 10 , -1 , 5 ] ]`.  \n",
    "> Vous devriez obtenir : `M=[[22, 0, 12], [10, 0, 7]]`  "
   ]
  }
 ],
 "metadata": {
  "kernelspec": {
   "display_name": "Python 3",
   "language": "python",
   "name": "python3"
  },
  "language_info": {
   "codemirror_mode": {
    "name": "ipython",
    "version": 3
   },
   "file_extension": ".py",
   "mimetype": "text/x-python",
   "name": "python",
   "nbconvert_exporter": "python",
   "pygments_lexer": "ipython3",
   "version": "3.10.7"
  },
  "orig_nbformat": 4,
  "vscode": {
   "interpreter": {
    "hash": "8b5627d09ea157e5bfa6ade67ae570716b55f7c7411aefb4bd7b475c8b9f64e7"
   }
  }
 },
 "nbformat": 4,
 "nbformat_minor": 2
}
