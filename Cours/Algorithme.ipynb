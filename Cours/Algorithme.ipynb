{
 "cells": [
  {
   "cell_type": "markdown",
   "metadata": {},
   "source": [
    " # Sommaire\n",
    "1) Définition d'un algorithme\n",
    "1) Complexité\n",
    "1) Complément sur les fonctions\n",
    "1) Algorithmes de tri\n",
    "1) Dichotomie"
   ]
  },
  {
   "cell_type": "markdown",
   "metadata": {},
   "source": [
    "## 1. Définition d'un algorithme\n",
    "Un algorithme est une série d’actes ou d’opérations élémentaires qu’il faut exécuter en séquence pour accomplir une tâche quelconque, en suivant un enchaînement strict.  \n",
    "Lorsqu’il sera demandé d’élaborer un algorithme, la méthode pour atteindre cet objectif sera de rédiger en français la succession des opérations élémentaires (phases courtes et précises) puis de passer à une écriture conventionnelle appelée pseudo-code (ou algorigramme). \n",
    "\n",
    "**Organisation d'un algorithme**  \n",
    "* L'en-tête : \n",
    "Nom de l'algorithme. description du traitement effectué, données en entrée (paramètres, arguments), données en sortie (résultats).  \n",
    "* La partie déclarative : Liste des \"objets\" utilisés par l'algorithme (constantes, variables).  \n",
    "* Le corps : Une suite d'instructions délimitée par les mots \"début\" en \"fin\".  \n",
    "\n",
    "Exemple :  \n",
    ">**fonction** Surface  \n",
    ">\n",
    ">Calcul la surface d'un disque à partir de son rayon\n",
    ">\n",
    ">**Paramètre**  \n",
    ">> rayon : réel  \n",
    ">\n",
    ">**Résultat**  \n",
    ">> surface : réel\n",
    ">\n",
    ">Pi = 3,14  \n",
    ">surface : réel\n",
    ">\n",
    ">**début**\n",
    ">> surface <- Pi * rayon * rayon  \n",
    ">> retourner surface  \n",
    ">\n",
    "> **fin**  \n",
    "\n",
    "\n",
    "Le pseudo-code consiste à exprimer en langage naturel, mais selon une disposition particulière et des mots choisis, les différentes opérations constituant l’algorithme, conformément au code donné dans le tableau qui suit. "
   ]
  },
  {
   "cell_type": "markdown",
   "metadata": {},
   "source": [
    "|Mots et symboles du pseudo-code   | Opérations réalisées  |\n",
    "|--------- |--------- | \n",
    "|Début | Début de l’algorithme, permet de le nommer |\n",
    "|Fin | Fin de l’algorithme|\n",
    "| Faire | Exécution d’une opération |\n",
    "|Entrer | Acquisition ou chargement d’une donnée|\n",
    "| Sortir | Edition ou sauvegarde d’un résultat |\n",
    "|Retourner | Retourner le résultat d'une fonction |\n",
    "|← |Affectation d’une valeur à une variable|\n",
    "| Symboles d’opérateur (+-*/ ET OU,...) | Opérations arithmétiques ou logiques|\n",
    "| Aller à | Branchement inconditionnel (déconseillé) |\n",
    "|Si…alors…[sinon] | Branchement conditionnel|\n",
    " Selon cas…[autrement] | Branchement conditionnel généralisé|\n",
    " | Tant que…faire… | Répétition conditionnelle|\n",
    " | Répéter…jusqu’à…||\n",
    " | Pour…=…à… | Répétition contrôlée| "
   ]
  },
  {
   "cell_type": "markdown",
   "metadata": {},
   "source": [
    "### Exemple d'algorithme  \n",
    "\n",
    "> DEBUT  \n",
    "> tr ← False  \n",
    "> i ← 0  \n",
    "> tant que i<longueur(t) et que tr=False:  \n",
    "> > si t[i]=x:  \n",
    "> > > tr ← True  \n",
    "> >\n",
    "> > fin si  \n",
    "> > i ← i+1  \n",
    "> \n",
    "> fin tant que  \n",
    "> Afficher la valeur de tr  \n",
    "> FIN "
   ]
  },
  {
   "cell_type": "markdown",
   "metadata": {},
   "source": [
    "> Tester cet algorithme \"à la main\" avec t=[12,0,5,10] et x=5  "
   ]
  },
  {
   "cell_type": "markdown",
   "metadata": {},
   "source": [
    "> Que fait cet algorithme ?  \n"
   ]
  },
  {
   "cell_type": "markdown",
   "metadata": {},
   "source": [
    "> On n'a donné que le corps de l'algorithme.  \n",
    "> Ajouter l'en-tête et la partie déclarative"
   ]
  },
  {
   "cell_type": "markdown",
   "metadata": {},
   "source": [
    "> Ecrire le programe python correspondant"
   ]
  },
  {
   "cell_type": "code",
   "execution_count": null,
   "metadata": {},
   "outputs": [],
   "source": []
  },
  {
   "cell_type": "markdown",
   "metadata": {},
   "source": [
    "## 2. Complexité\n",
    "\n",
    "La notion de complexité d'un algorithme représente l'efficacité de cet algorithme.  \n",
    "Nous allons étudier uniquement la complexité en temps qui est liée au *nombre d'opérations élémentaires* qui doivent être exécutées afin de résoudre un problème donné. L'évaluation de ce nombre d'opérations élémentaires n'est pas chose facile, on rencontre souvent des cas litigieux.  \n",
    "Exemple avec : \"est-ce que x est dans le tableau t ?\".  \n",
    "Il y a 2 cas à traiter : \n",
    "* L'entier recherché est bien présent dans le tableau, il se trouve à la position d'index i  \n",
    "* L'entier recherché n'est pas présent dans le tableau       \n",
    "\n",
    "Pour calculer la complexité, on se place toujours dans le cas le plus défavorable, ici le deuxième.       \n",
    "On va rechercher dans l’algorithme, le test qui sera exécuté le plus de fois.  \n",
    "Notons `n` la longueur du tableau.\n"
   ]
  },
  {
   "cell_type": "markdown",
   "metadata": {},
   "source": [
    "nombre d'opé.  | élément du programme  |\n",
    "|--------- |--------- | \n",
    "|       | DEBUT  \n",
    "1 fois | tr ← False  \n",
    "1 fois | i ← 0  \n",
    "n+1 fois | tant que i<longueur(t) et que tr=False:  \n",
    "1 fois...(n+1) fois | > si t[i]=x:  \n",
    "1 fois...(n+1) fois | > > tr ← True  \n",
    "| |>  fin si  \n",
    "1 fois...(n+1) fois |>  i ← i+1  \n",
    "1 fois | fin tant que  \n",
    "1 fois | Afficher la valeur de tr  \n",
    "|       | FIN \n",
    "\n",
    "\n",
    "On dira que la complexité de cet algorithme est égale à O(n). Si nous avions eu n²+3n+2 nous aurions O(n²) "
   ]
  },
  {
   "cell_type": "markdown",
   "metadata": {},
   "source": [
    "> **Exemple 2.**  \n",
    "> Ecrire et tester à la main l’algorithme qui donne le plus grand entier de t avec t = [12,5,10,22].  \n",
    "> Déterminer la complexité de cet algorithme.  \n",
    "> Créer le programme python où t sera une constante déclarée en début de programme."
   ]
  },
  {
   "cell_type": "markdown",
   "metadata": {},
   "source": []
  },
  {
   "cell_type": "markdown",
   "metadata": {},
   "source": [
    "Complément pour les plus rapides et avancés : une complexité en O(n) est dite linéaire, comme les fonctions linéaires : si n double, grosso-modo, le temps double.  \n",
    "Vous pouvez essayer de le voir en\n",
    "* écrivant une fonction python `maximum` (ne pas utiliser la fonction native de python)\n",
    "* chronométrant avec le module time le temps que met cette fonction à trouver le maximum pour des listes de taille [k*10**5 for k in range(1,100)] composées de nombres entiers aléatoires \n",
    "* affichant ces temps dans un graphique pour voir si ces points semblent alignés\n",
    "* ((chercher la pente de la droite des moindres carrés qui approche au mieux ces points))"
   ]
  },
  {
   "cell_type": "markdown",
   "metadata": {},
   "source": [
    "> **Exemple 3**  \n",
    "> Ecrire et tester à la main l’algorithme qui donne la moyenne de t avec t = [12,5,10,22].  \n",
    "> Déterminer la complexité de cet algorithme.  \n",
    "> Créer le programme python où t sera une constante déclarée en début de programme"
   ]
  },
  {
   "cell_type": "markdown",
   "metadata": {},
   "source": []
  },
  {
   "cell_type": "code",
   "execution_count": null,
   "metadata": {},
   "outputs": [],
   "source": []
  },
  {
   "cell_type": "markdown",
   "metadata": {},
   "source": [
    "### 3. Complément sur les fonctions\n",
    "Nous avons vue trois exercices sur les tableaux dans trois programmes différents. Ces exercices pourraient être assimilés à des fonctions que l’on pourrait réutiliser dans un programme. Pour cela il suffit de les coder en tant que tel.  \n",
    "Pour créer une fonction sous python, il suffit de mettre l’instruction `def` suivi du nom de la fonction et des paramètres entre parenthèses : "
   ]
  },
  {
   "cell_type": "code",
   "execution_count": null,
   "metadata": {},
   "outputs": [],
   "source": [
    "def nomDeLaFonction(parametre1, parametre1, parametre1,...):\n",
    "    \"\"\"Documentation\n",
    "    qu'on peut écrire\n",
    "    sur plusieurs lignes\"\"\" # docstring entouré de 3 guillements\n",
    "\n",
    "    \"bloc d'instructions\" #attention à l'indentation\n",
    "\n",
    "    return resultat # la fonction retourne le contenu de la variable resultat"
   ]
  },
  {
   "cell_type": "markdown",
   "metadata": {},
   "source": [
    "Reprenons le premier exemple :"
   ]
  },
  {
   "cell_type": "code",
   "execution_count": 6,
   "metadata": {},
   "outputs": [
    {
     "name": "stdout",
     "output_type": "stream",
     "text": [
      "la valeur 12 a été trouvée dans le tableau\n"
     ]
    }
   ],
   "source": [
    "tab = [12, 0, 5, 10]\n",
    "x = int(input(\"valeur à chercher ? \"))\n",
    "def est_present(valeur:int, tableau:list)->bool:\n",
    "    \"\"\"On recherche si valeur est dans tableau\n",
    "    \"\"\"\n",
    "    trouve = False\n",
    "    i = 0\n",
    "    while (i<len(tableau) and not trouve):\n",
    "        if tableau[i] == x:\n",
    "            trouve = True\n",
    "        i = i+1\n",
    "    return(trouve)\n",
    "if est_present(x,tab):\n",
    "    print(f\"la valeur {x} a été trouvée dans le tableau\")\n",
    "else:\n",
    "    print(f\"la valeur {x} n'a pas été trouvée dans le tableau\")"
   ]
  },
  {
   "cell_type": "markdown",
   "metadata": {},
   "source": [
    "> Réécrire les deux derniers algorithmes sous forme de fonction python (recherche du maximum et de la moyenne)"
   ]
  },
  {
   "cell_type": "code",
   "execution_count": null,
   "metadata": {},
   "outputs": [],
   "source": []
  },
  {
   "cell_type": "markdown",
   "metadata": {},
   "source": [
    "### 4. Algorithme des tri\n",
    "Tri du tableau par sélection du minimum\n",
    "\n",
    "Voici l'algorithme :\n",
    "\n",
    "> DEBUT  \n",
    "> n ← longueur du tableau  \n",
    "> Pour i variant de 0 à n (exclu)  \n",
    ">> min ← t[i]  \n",
    ">> posmin ← i  \n",
    ">>> Pour j variant de i+1 à n (exclu)  \n",
    ">>>> Si t[j]<min  \n",
    ">>>>> min ← t[j]  \n",
    ">>>>> posmin ← j  \n",
    ">>>>\n",
    ">>>> Fin Si  \n",
    ">>>\n",
    ">>> Fin Pour  \n",
    ">>\n",
    ">> #Echanger t[i] et min  \n",
    ">> t[posmin] ←t[i]  \n",
    ">> t[i] ← min\n",
    ">\n",
    "> Fin Pour\n",
    ">\n",
    "> Renvoyer t  \n",
    "> FIN "
   ]
  },
  {
   "attachments": {
    "algo_tableau.jpg": {
     "image/jpeg": "[encoded data removed]"
    }
   },
   "cell_type": "markdown",
   "metadata": {},
   "source": [
    "> Tester cet algorithme avec le tableau [5,9,-1,2,7] en remplissant le tableau ci-dessous pour chaque valeur de i (vous préciserez avec une double flèches les deux éléments échangés). ![algo_tableau.jpg](attachment:algo_tableau.jpg)  \n",
    "> (pour cela, vous pouvez le faire sur papier, ou modifier le jpg dans votre éditeur d'image)"
   ]
  },
  {
   "cell_type": "markdown",
   "metadata": {},
   "source": [
    "Pour déterminer la complexité de cet algorithme :\n",
    "\n",
    "| nb opé | partie de l'algo|\n",
    "|-----|-----|\n",
    "|| DEBUT  \n",
    "|1 fois|n ← longueur du tableau  \n",
    "|n | Pour i variant de 0 à n (exclu)  \n",
    "|1|> min ← t[i]  \n",
    "|1|> posmin ← i  \n",
    "|n|>> Pour j variant de i+1 à n (exclu)  \n",
    "|1|>>> Si t[j]<min  \n",
    "|1|>>>> min ← t[j]  \n",
    "|1|>>>> posmin ← j  \n",
    "||>>> Fin Si \n",
    "||>> Fin Pour  \n",
    "|1|> #Echanger t[i] et min  \n",
    "|1|> t[posmin] ←t[i]  \n",
    "|1|> t[i] ← min\n",
    "|| Fin Pour\n",
    "|| Renvoyer t  \n",
    "|| FIN \n",
    "\n",
    "L'ordre de grandeur est donc en O(n²) car..."
   ]
  }
 ],
 "metadata": {
  "kernelspec": {
   "display_name": "Python 3",
   "language": "python",
   "name": "python3"
  },
  "language_info": {
   "codemirror_mode": {
    "name": "ipython",
    "version": 3
   },
   "file_extension": ".py",
   "mimetype": "text/x-python",
   "name": "python",
   "nbconvert_exporter": "python",
   "pygments_lexer": "ipython3",
   "version": "3.10.11"
  },
  "orig_nbformat": 4
 },
 "nbformat": 4,
 "nbformat_minor": 2
}
