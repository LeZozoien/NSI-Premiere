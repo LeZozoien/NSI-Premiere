{
 "cells": [
  {
   "cell_type": "markdown",
   "metadata": {},
   "source": [
    "# 1 : Vérification de la saisie d’un RIB\n",
    "Ecrire le script qui répond au cahier des charges suivant :\n",
    "- Demander le code de la banque et stocker l'entier dans une variable.\n",
    "- Demander le code du guichet et stocker l'entier dans une variable.\n",
    "- Demander le numéro de compte et stocker l'entier dans une variable.\n",
    "- Demander la clé et stocker l'entier dans une variable.\n",
    "- Stocker dans une variable de contrôle le calcul de la clé :\n",
    "Clé RIB = 97- ((89 x Code banque + 15 x Code guichet + 3 x Numéro de compte) modulo 97)\n",
    "- Vérifier l'égalité entre la clé saisie et la clé calculée puis afficher à l'écran la validité ou non du\n",
    "RIB.\n",
    "Tester votre programme avec le RIB suivant  :\n",
    "\n",
    "| Banque | Guichet | N° compte | Clé | Devise |\n",
    "| :----- | :------ | :-------- | :----- |:------ |\n",
    "| 58496 | 87451 | 00014500269 | 13 | EUR |"
   ]
  },
  {
   "cell_type": "code",
   "execution_count": 1,
   "metadata": {},
   "outputs": [
    {
     "name": "stdout",
     "output_type": "stream",
     "text": [
      "C'est tout good\n"
     ]
    }
   ],
   "source": [
    "code_banque = int(input(\"Quel est le code de la banque ?\"))\n",
    "code_guichet = int(input(\"Quel est le code du guichet ?\"))\n",
    "numero_compte = int(input(\"Quel est le numéro du compte ?\"))\n",
    "true_key = int(input(\"Quelle est la clé ?\"))\n",
    "# Le programme demande toutes les informations à l'utilisateur\n",
    "\n",
    "calculated_key = 97 - ((89 * code_banque + 15 * code_guichet + 3 * numero_compte) % 97)\n",
    "# Calcul de la clé avec le calcul dans la consigne\n",
    "\n",
    "if true_key == calculated_key: # Si la clé calculée est la même que la clé de la consigne\n",
    "    print(\"C'est tout good\") # Alors c'est bon\n",
    "else: # Sinon\n",
    "    print(\"probleme\") # Il y a un probleme"
   ]
  },
  {
   "cell_type": "markdown",
   "metadata": {},
   "source": [
    "# 2 : IMC\n",
    "Ecrire le script qui calcule de l’IMC d’un adulte = Masse/taille² en kg/m² et qui l’interprète suivant le tableau ci-dessous :\n",
    "\n",
    "| IMC | Interprétation |\n",
    "| :--- | :------------ |\n",
    "| moins de 16,5 | Dénutrition ou famine |\n",
    "| 16,5 à 18,5 | Maigreur |\n",
    "| 18,5 à 25 | Corpulence normale |\n",
    "| 25 à 30 | Surpoids |\n",
    "| 30 à 35 | Obésité modérée |\n",
    "| 35 à 40 | Obésité sévère |\n",
    "| Plus de 40 | Obésité morbide ou massive |\n",
    "\n",
    "Le script demandera la taille en cm, la masse en kg puis affichera IMC = « Valeur de l’IMC » et Interprétation :\n",
    "« Colonne du tableau ci-dessus ».\n",
    "\n",
    "Tester votre programme."
   ]
  },
  {
   "cell_type": "code",
   "execution_count": 1,
   "metadata": {},
   "outputs": [
    {
     "name": "stdout",
     "output_type": "stream",
     "text": [
      "IMC : 14.792899408284022, interprétation : Dénutrition ou famine\n"
     ]
    }
   ],
   "source": [
    "height = float(input(\"Quelle est la taille ?\"))\n",
    "weight = float(input(\"Quel est le poids ?\"))\n",
    "# Le programme demande toutes les informations à l'utilisateur\n",
    "\n",
    "imc = weight / (height ** 2)\n",
    "# Calcul de l'imc\n",
    "\n",
    "if imc < 16.5:\n",
    "    state = \"Dénutrition ou famine\"\n",
    "elif (imc >= 16.5) & (imc < 18.5):\n",
    "    state = \"Maigreur\"\n",
    "elif (imc >= 18.5) & (imc < 25):\n",
    "    state = \"Corpulence normale\"\n",
    "elif (imc >= 25) & (imc < 30):\n",
    "    state = \"Surpoids\"\n",
    "elif (imc >= 30) & (imc < 35):\n",
    "    state = \"Obésité modérée\"\n",
    "elif (imc >= 35) & (imc < 40):\n",
    "    state = \"Obésité sévère\"\n",
    "else:\n",
    "    state = \"Obésité morbide ou massive\"\n",
    "# Séparation des cas d'imc\n",
    "\n",
    "print(f\"IMC : {imc}, interprétation : {state}\")\n",
    "# Affichage de l'imc puis de l'interpretation"
   ]
  },
  {
   "cell_type": "markdown",
   "metadata": {},
   "source": [
    "# 3 : Table de multiplication\n",
    "Ecrire un script qui affiche toutes les tables de multiplication (de 1 à 10). Utilisez deux instructions \"For\" imbriquées avec deux variables différentes. Tester votre programme."
   ]
  },
  {
   "cell_type": "code",
   "execution_count": 2,
   "metadata": {},
   "outputs": [
    {
     "name": "stdout",
     "output_type": "stream",
     "text": [
      "0 * 0 = 0 , 0 * 1 = 0 , 0 * 2 = 0 , 0 * 3 = 0 , 0 * 4 = 0 , 0 * 5 = 0 , 0 * 6 = 0 , 0 * 7 = 0 , 0 * 8 = 0 , 0 * 9 = 0 , 0 * 10 = 0 , \n",
      "1 * 0 = 0 , 1 * 1 = 1 , 1 * 2 = 2 , 1 * 3 = 3 , 1 * 4 = 4 , 1 * 5 = 5 , 1 * 6 = 6 , 1 * 7 = 7 , 1 * 8 = 8 , 1 * 9 = 9 , 1 * 10 = 10 , \n",
      "2 * 0 = 0 , 2 * 1 = 2 , 2 * 2 = 4 , 2 * 3 = 6 , 2 * 4 = 8 , 2 * 5 = 10 , 2 * 6 = 12 , 2 * 7 = 14 , 2 * 8 = 16 , 2 * 9 = 18 , 2 * 10 = 20 , \n",
      "3 * 0 = 0 , 3 * 1 = 3 , 3 * 2 = 6 , 3 * 3 = 9 , 3 * 4 = 12 , 3 * 5 = 15 , 3 * 6 = 18 , 3 * 7 = 21 , 3 * 8 = 24 , 3 * 9 = 27 , 3 * 10 = 30 , \n",
      "4 * 0 = 0 , 4 * 1 = 4 , 4 * 2 = 8 , 4 * 3 = 12 , 4 * 4 = 16 , 4 * 5 = 20 , 4 * 6 = 24 , 4 * 7 = 28 , 4 * 8 = 32 , 4 * 9 = 36 , 4 * 10 = 40 , \n",
      "5 * 0 = 0 , 5 * 1 = 5 , 5 * 2 = 10 , 5 * 3 = 15 , 5 * 4 = 20 , 5 * 5 = 25 , 5 * 6 = 30 , 5 * 7 = 35 , 5 * 8 = 40 , 5 * 9 = 45 , 5 * 10 = 50 , \n",
      "6 * 0 = 0 , 6 * 1 = 6 , 6 * 2 = 12 , 6 * 3 = 18 , 6 * 4 = 24 , 6 * 5 = 30 , 6 * 6 = 36 , 6 * 7 = 42 , 6 * 8 = 48 , 6 * 9 = 54 , 6 * 10 = 60 , \n",
      "7 * 0 = 0 , 7 * 1 = 7 , 7 * 2 = 14 , 7 * 3 = 21 , 7 * 4 = 28 , 7 * 5 = 35 , 7 * 6 = 42 , 7 * 7 = 49 , 7 * 8 = 56 , 7 * 9 = 63 , 7 * 10 = 70 , \n",
      "8 * 0 = 0 , 8 * 1 = 8 , 8 * 2 = 16 , 8 * 3 = 24 , 8 * 4 = 32 , 8 * 5 = 40 , 8 * 6 = 48 , 8 * 7 = 56 , 8 * 8 = 64 , 8 * 9 = 72 , 8 * 10 = 80 , \n",
      "9 * 0 = 0 , 9 * 1 = 9 , 9 * 2 = 18 , 9 * 3 = 27 , 9 * 4 = 36 , 9 * 5 = 45 , 9 * 6 = 54 , 9 * 7 = 63 , 9 * 8 = 72 , 9 * 9 = 81 , 9 * 10 = 90 , \n",
      "10 * 0 = 0 , 10 * 1 = 10 , 10 * 2 = 20 , 10 * 3 = 30 , 10 * 4 = 40 , 10 * 5 = 50 , 10 * 6 = 60 , 10 * 7 = 70 , 10 * 8 = 80 , 10 * 9 = 90 , 10 * 10 = 100 , \n"
     ]
    }
   ],
   "source": [
    "for x in range(11):\n",
    "\n",
    "    resultats = \"\"\n",
    "\n",
    "    for y in range(11):\n",
    "\n",
    "        resultats += (f\"{x} * {y} = {((x) * y)} , \") # Ajout du résultat de x fois y dans la liste\n",
    "\n",
    "    print(resultats)\n"
   ]
  },
  {
   "cell_type": "markdown",
   "metadata": {},
   "source": [
    "# 4 : Combien de 'o' ?\n",
    "Avec une boucle for, écrire un script qui compte le nombre de lettres o dans une chaîne de caractères.  \n",
    "Pour cela :  \n",
    "Pour chaque lettre de la chaine  \n",
    "    si la lettre est égale à 'o'  \n",
    "        alors incrémenter une variable  \n",
    "afficher la valeur de la variable  \n",
    "Tester votre programme.  "
   ]
  },
  {
   "cell_type": "code",
   "execution_count": 13,
   "metadata": {},
   "outputs": [
    {
     "name": "stdout",
     "output_type": "stream",
     "text": [
      "2\n"
     ]
    }
   ],
   "source": [
    "my_string = input(\"Quelle est la chaine de characteres ?\")\n",
    "number_o = 0\n",
    "\n",
    "for letter in my_string:\n",
    "    if letter == 'o':\n",
    "        number_o += 1\n",
    "\n",
    "print(number_o)"
   ]
  },
  {
   "cell_type": "markdown",
   "metadata": {},
   "source": [
    "Faire la même chose, directement avec la méthode count() de la classe str. (str.count('o'))  \n",
    "Tester votre programme."
   ]
  },
  {
   "cell_type": "code",
   "execution_count": 14,
   "metadata": {},
   "outputs": [
    {
     "name": "stdout",
     "output_type": "stream",
     "text": [
      "3\n"
     ]
    }
   ],
   "source": [
    "my_string = input(\"Quelle est la chaine de characteres ?\")\n",
    "number_o = my_string.count('o')\n",
    "print(number_o)"
   ]
  },
  {
   "cell_type": "markdown",
   "metadata": {},
   "source": [
    "# 5 : Devinette\n",
    "Ecrire le script du jeu de devinette d’un nombre entier aléatoire entre 1 et 100 suivant.\n",
    "\n",
    "--> 50  \n",
    "Trop petit  \n",
    "--> 75  \n",
    "Trop petit  \n",
    "--> 87  \n",
    "Trop grand  \n",
    "--> 81  \n",
    "Trop petit  \n",
    "--> 84  \n",
    "Trop petit  \n",
    "--> 85  \n",
    "Gagné en 6 coups\n",
    "\n",
    "Pour créer un nombre entier aléatoire entre 1 et 100 :  \n",
    "import random  \n",
    "nombre = random.randint(1,100)  \n",
    "Tester votre programme."
   ]
  },
  {
   "cell_type": "code",
   "execution_count": 17,
   "metadata": {},
   "outputs": [
    {
     "name": "stdout",
     "output_type": "stream",
     "text": [
      "Trop grand\n",
      "Trop petit\n",
      "Trop grand\n",
      "Trop grand\n",
      "Trop grand\n",
      "Trop grand\n",
      "Gagné en 7 coups\n"
     ]
    }
   ],
   "source": [
    "import random # Importation du module random\n",
    "\n",
    "nbr = random.randint(1, 100) # Définition du nombre aléatoire\n",
    "guess = 0\n",
    "guesses = 0 # Mise a zero des variables\n",
    "\n",
    "while True:\n",
    "    guess = int(input(\"Proposition\")) # On demande la proposition à l'utilisateur et on la stocke dans une variable\n",
    "    guesses += 1 # On ajoute 1 au nombre d'essais\n",
    "    if guess == nbr:\n",
    "        break  # On sort de la boucle si l'utilisateur trouve le bon numéro\n",
    "    elif guess < nbr:\n",
    "        print(\"Trop petit\")\n",
    "    else:\n",
    "        print(\"Trop grand\")\n",
    "\n",
    "print(\"Gagné en \" + str(guesses) + \" coups\")"
   ]
  },
  {
   "cell_type": "markdown",
   "metadata": {},
   "source": [
    "# 6 : Code de César\n",
    "En cryptographie, le code de César est une technique de chiffrement élémentaire qui consiste à décaler une lettre de 3 rangs vers la droite :  \n",
    "A -> D  \n",
    "B -> E  \n",
    "...  \n",
    "Z -> C\n",
    "\n",
    "1) Ecrire le script de ce codage :\n",
    "\n",
    "Message à coder ? abcdefghijklmnopqrstuvwxyz  \n",
    "defghijklmnopqrstuvwxyzabc\n",
    "\n",
    "On pourra utiliser la chaîne 'abcdefghijklmnopqrstuvwxyz' et la méthode find() de la classe str.\n",
    "\n",
    "ch = 'abcdefghijklmnopqrstuvwxyz'  \n",
    "a = str.find(ch,'z')  \n",
    "print(a)  \n",
    "25"
   ]
  },
  {
   "cell_type": "code",
   "execution_count": null,
   "metadata": {},
   "outputs": [],
   "source": [
    "ch = 'abcdefghijklmnopqrstuvwxyz'\n",
    "alphabet = [chr(ord('a') + i) for i in range(26)]\n",
    "print(alphabet)\n",
    "chaine_a_coder = input(\"Quoi a coder\")\n",
    "resultat = \"\"\n",
    "chaine_a_coder = chaine_a_coder.lower()\n",
    "cle = input(\"Donner une clé\")\n",
    "\n",
    "for letter in chaine_a_coder:\n",
    "    try:\n",
    "        resultat += ch[((alphabet.index(letter)) + cle) % 26]\n",
    "    except ValueError:\n",
    "        resultat += letter\n",
    "\n",
    "print(resultat, cle)\n"
   ]
  },
  {
   "cell_type": "markdown",
   "metadata": {},
   "source": [
    "2) Ecrire le script de décodage.  \n",
    "Tester votre programme"
   ]
  },
  {
   "cell_type": "code",
   "execution_count": 2,
   "metadata": {},
   "outputs": [
    {
     "name": "stdout",
     "output_type": "stream",
     "text": [
      "['a', 'b', 'c', 'd', 'e', 'f', 'g', 'h', 'i', 'j', 'k', 'l', 'm', 'n', 'o', 'p', 'q', 'r', 's', 't', 'u', 'v', 'w', 'x', 'y', 'z']\n",
      "qu oublis certains culs. fl y a aussi qea et ..\n"
     ]
    }
   ],
   "source": [
    "ch = 'abcdefghijklmnopqrstuvwxyz'\n",
    "alphabet = [chr(ord('a') + i) for i in range(26)]\n",
    "print(alphabet)\n",
    "chaine_a_decoder = input(\"Quoi a décoder\")\n",
    "resultat = \"\"\n",
    "chaine_a_decoder = chaine_a_decoder.lower()\n",
    "cle = input(\"Donner la clé\")\n",
    "\n",
    "for letter in chaine_a_decoder:\n",
    "    try:\n",
    "        resultat += ch[((alphabet.index(letter)) - cle) % 26]\n",
    "    except ValueError:\n",
    "        resultat += letter\n",
    "\n",
    "print(resultat)"
   ]
  }
 ],
 "metadata": {
  "kernelspec": {
   "display_name": "Python 3",
   "language": "python",
   "name": "python3"
  },
  "language_info": {
   "codemirror_mode": {
    "name": "ipython",
    "version": 3
   },
   "file_extension": ".py",
   "mimetype": "text/x-python",
   "name": "python",
   "nbconvert_exporter": "python",
   "pygments_lexer": "ipython3",
   "version": "3.10.7"
  },
  "orig_nbformat": 4
 },
 "nbformat": 4,
 "nbformat_minor": 2
}
