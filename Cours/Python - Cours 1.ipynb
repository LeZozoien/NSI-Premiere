{
 "cells": [
  {
   "cell_type": "markdown",
   "metadata": {},
   "source": [
    " # Prise en main\n",
    "\n",
    "Vous êtes dans un notebook Jupyter, qui permet de tester agréablement les commandes Python\n",
    "\n",
    "La cellule est l'élément de base d'un notebook Jupyter. Elle peut contenir du texte formaté au format Markdown ou du code informatique qui pourra être exécuté.\n",
    "\n",
    "Pour que tout fonctionne, vous devez avoir Python installé sur votre ordinateur. C'est le cas normalement\n",
    "\n",
    "Puis vous devez installer depuis le Windows Store \"Visual Studio Code\"\n",
    "\n",
    "Ouvrez ensuite ce fichier, que vous avez copier dans vos documents, et qui se nomme intro.ipynb\n",
    "\n",
    "La cellule ci-dessous est une cellule python, que vous pouvez exécuter en appuyant sur ctrl+Entrée\n",
    "\n",
    "> Copiez le texte suivant et exécutez-le \n",
    "\n",
    "```print(\"Bonjour tout le monde\")```"
   ]
  },
  {
   "cell_type": "code",
   "execution_count": 1,
   "metadata": {},
   "outputs": [
    {
     "name": "stdout",
     "output_type": "stream",
     "text": [
      "Bonjour tout le monde\n"
     ]
    }
   ],
   "source": [
    "print(\"Bonjour tout le monde\")"
   ]
  },
  {
   "cell_type": "markdown",
   "metadata": {},
   "source": [
    "> Notez ici vos observation (en double-cliquant sur cette cellule)  \n",
    "Qu'obtenez-vous ?  \n",
    "---> La console affiche Bonjour tout le monde"
   ]
  },
  {
   "cell_type": "markdown",
   "metadata": {},
   "source": [
    "> Ensuite, calculez 32 + 5/2 + 1.5 (le texte est déjà tapé dans la cellule)"
   ]
  },
  {
   "cell_type": "code",
   "execution_count": 4,
   "metadata": {},
   "outputs": [
    {
     "data": {
      "text/plain": [
       "36.0"
      ]
     },
     "execution_count": 4,
     "metadata": {},
     "output_type": "execute_result"
    }
   ],
   "source": [
    "32 + 5/2 + 1.5"
   ]
  },
  {
   "cell_type": "markdown",
   "metadata": {},
   "source": [
    "> Le résultat est 36\n"
   ]
  },
  {
   "cell_type": "markdown",
   "metadata": {},
   "source": [
    "### 3. Les variables\n",
    "\n",
    "#### a. Les noms de variables :\n",
    "Le nom d'une variable s'écrit avec des lettres (non accentuées), des chiffres ou bien le souligné ``` _ ```.  \n",
    "Le nom d'une variable **ne doit pas** commencer par un chiffre.  \n",
    "En langage Python, l'*usage* est de ne pas utiliser de lettres majuscules pour nommer les variables (celles-ci sont réservées pour nommer les classes).\n",
    "\n",
    "Exemple : prenom, mon_nom, personne3\n",
    "\n",
    "#### b. Le type ```int``` (interger : nombre entiers)\n",
    "\n",
    "Commençons par créer une variable ```age``` en lui donnant la valeur 21 (c’est ce que l’on appelle affectation ou assignation).  \n",
    "Pour afficher dans la console la valeur de la variable, il faut utiliser la fonction ```print(<nom de la variable1 à afficher>)```\n",
    "\n",
    "> Coder ```age = 21``` puis valider par entrée  \n",
    "Coder ```print(age)``` puis valider par entrée"
   ]
  },
  {
   "cell_type": "code",
   "execution_count": 5,
   "metadata": {},
   "outputs": [
    {
     "name": "stdout",
     "output_type": "stream",
     "text": [
      "21\n"
     ]
    }
   ],
   "source": [
    "age = 21\n",
    "print(age)"
   ]
  },
  {
   "cell_type": "markdown",
   "metadata": {},
   "source": [
    "> Observations : la console affiche 21"
   ]
  },
  {
   "cell_type": "markdown",
   "metadata": {},
   "source": [
    "Lorsqu’on utilise une variable, on peut connaitre son type à l’aide de la fonction : ```type(«nom_variable»)```"
   ]
  },
  {
   "cell_type": "code",
   "execution_count": 6,
   "metadata": {},
   "outputs": [
    {
     "name": "stdout",
     "output_type": "stream",
     "text": [
      "<class 'int'>\n"
     ]
    }
   ],
   "source": [
    "print(type(age))"
   ]
  },
  {
   "cell_type": "markdown",
   "metadata": {},
   "source": [
    "> Observations : La variable est un integer, donc un entier"
   ]
  },
  {
   "cell_type": "markdown",
   "metadata": {},
   "source": [
    "Lorsque vous créé des scripts, il faut les commenter.  \n",
    "Sur Python, il faut mettre un  #  devant"
   ]
  },
  {
   "cell_type": "code",
   "execution_count": null,
   "metadata": {},
   "outputs": [],
   "source": [
    "# ceci est un commentaire\n",
    "age = 21\n",
    "age = age + 1 # en plus court : age += 1\n",
    "age = age - 3 # en plus court : age -=3\n",
    "age = age * 2 # en plus court : age *= 2\n",
    "print(age)"
   ]
  },
  {
   "cell_type": "markdown",
   "metadata": {},
   "source": [
    "> Pour additionner, soustraire, multiplier ou diviser une variable, on peut raccourcir l'opération en mettant le signe avant ="
   ]
  },
  {
   "cell_type": "markdown",
   "metadata": {},
   "source": [
    "Sur ce type de variables, on peut faire différentes opérations : \n",
    "* L’addition avec le symbole ``` + ```. \n",
    "* La soustraction avec le symbole ``` - ```. \n",
    "* La multiplication avec le symbole ``` * ```. \n",
    "* La division avec le symbole ``` / ```. \n",
    "* La division entière avec le symbole ``` // ``` (le résultat est la partie entière de la division). \n",
    "* Le modulo avec le symbole ``` % ``` (le résultat est le reste de la division). La puissance avec le symbole ``` ** ```."
   ]
  },
  {
   "cell_type": "markdown",
   "metadata": {},
   "source": [
    "Donner les lignes de codes pour répondre au cahier des charges suivant : \n",
    "1. Créer une variable a valant 6*3 + 2 \n",
    "2. Créer une variable b valant 20 \n",
    "3. Créer une variable c valant a + 2*b \n",
    "4. Afficher dans la même ligne a, b et c (pour afficher plusieurs variables avec la fonction print, il suffit de les séparer par une « , » dans la parenthèse).\n",
    "5. Créer une variable angle = 450\n",
    "6. Créer une variable tour et calculer le nombre de tour entier qu’il y a dans angle (on utilisera ```//```)\n",
    "7. Créer une variable reste et calculer l’angle restant (on utilisera ```%```)\n",
    "8. Afficher dans la même ligne angle, tour et reste\n",
    "9. Créer une variable puissance qui vaut 2 à la puissance 20 et afficher le résultat et son type.\n",
    "10. Créer une variable racine2 qui sera la racine carrée de 2 soit 2 à la puissance 0.5 le résultat et son type"
   ]
  },
  {
   "cell_type": "code",
   "execution_count": 1,
   "metadata": {},
   "outputs": [
    {
     "name": "stdout",
     "output_type": "stream",
     "text": [
      "20 20 60\n",
      "450 1 90\n",
      "1048576 <class 'int'>\n",
      "1.4142135623730951 <class 'float'>\n"
     ]
    }
   ],
   "source": [
    "a = 6*3 + 2\n",
    "b = 20\n",
    "c = a + 2 * b\n",
    "print(a, b, c)\n",
    "angle = 450\n",
    "tour = angle // 360\n",
    "reste = angle % 360\n",
    "print(angle, tour , reste)\n",
    "puissance = 2**20\n",
    "print(puissance, type(puissance))\n",
    "racine2 = 2**0.5\n",
    "print(racine2, type(racine2))\n"
   ]
  },
  {
   "cell_type": "markdown",
   "metadata": {},
   "source": [
    "#### c.Le type float (nombres en virgule flottante)\n",
    "Pour déclarer un float, il suffit de mettre le séparateur décimal qui est un point sous python."
   ]
  },
  {
   "cell_type": "markdown",
   "metadata": {},
   "source": [
    "> Voici un code. Exécutez-le et expliquez chaque résultat."
   ]
  },
  {
   "cell_type": "code",
   "execution_count": 9,
   "metadata": {},
   "outputs": [
    {
     "name": "stdout",
     "output_type": "stream",
     "text": [
      "17.0\n",
      "<class 'float'>\n",
      "<class 'float'>\n"
     ]
    }
   ],
   "source": [
    "nb = 17.0\n",
    "print(nb)\n",
    "print(type(nb))\n",
    "d = 14/3 \n",
    "print(type(d))"
   ]
  },
  {
   "cell_type": "markdown",
   "metadata": {},
   "source": [
    "> Observations : les 2 variables ne sont pas entieres, donc elles sont des float"
   ]
  },
  {
   "cell_type": "markdown",
   "metadata": {},
   "source": [
    "On peut aussi écrire des réels au format scientifique avec la lettre e."
   ]
  },
  {
   "cell_type": "code",
   "execution_count": 10,
   "metadata": {},
   "outputs": [
    {
     "name": "stdout",
     "output_type": "stream",
     "text": [
      "5464.64\n"
     ]
    }
   ],
   "source": [
    "nb = 5.46464e3\n",
    "print(nb)"
   ]
  },
  {
   "cell_type": "markdown",
   "metadata": {},
   "source": [
    "> explications : e3 représente *10^(3)"
   ]
  },
  {
   "cell_type": "markdown",
   "metadata": {},
   "source": [
    "On peut aussi utiliser des fonctions mathématiques existantes. Pour cela, il faut importer un module math import math par exemple.  \n",
    "Pour connaitre toutes les fonctions d’un module, il suffit d’utiliser la fonction ```dir(« nom du module »)```.  \n",
    "Pour utiliser une fonction d’un module, il suffit d’utiliser ```module.fonction(argument)```.\n",
    "XI) Coder «print(math.pi) # donnée pi du module math (nombre pi) » puis valider."
   ]
  },
  {
   "cell_type": "code",
   "execution_count": 2,
   "metadata": {},
   "outputs": [
    {
     "name": "stdout",
     "output_type": "stream",
     "text": [
      "3.141592653589793\n"
     ]
    }
   ],
   "source": [
    "import math\n",
    "print(math.pi)"
   ]
  },
  {
   "cell_type": "markdown",
   "metadata": {},
   "source": [
    "> Observez... si on importe pas le module python ne connait pas la commance\n",
    "> Décommentez la ligne 1 et relancez. Observations : cette fois on obtient le resultat"
   ]
  },
  {
   "cell_type": "code",
   "execution_count": 4,
   "metadata": {},
   "outputs": [
    {
     "name": "stdout",
     "output_type": "stream",
     "text": [
      "0.7071067811865476\n",
      "1.4142135623730951\n",
      "0.049787068367863944\n",
      "1.0\n"
     ]
    }
   ],
   "source": [
    "print(math.sin(math.pi/4.0)) # fonction sin() du module math (sinus)\n",
    "print(math.sqrt(2.0)) # fonction sqrt() du module math (racine carrée)\n",
    "print(math.exp(-3.0)) # fonction exp() du module math (exponentielle)\n",
    "print(math.log(math.e)) # fonction log() du module math (logarithme népérien)"
   ]
  },
  {
   "cell_type": "markdown",
   "metadata": {},
   "source": [
    "#### d. Le type str (string : chaîne de caractères)\n",
    "Pour créer une variable str, il faut l’écrire entre apostrophes ' '."
   ]
  },
  {
   "cell_type": "code",
   "execution_count": 14,
   "metadata": {},
   "outputs": [
    {
     "name": "stdout",
     "output_type": "stream",
     "text": [
      "Dupont\n",
      "<class 'str'>\n",
      "Pierre\n",
      "Dupont Pierre\n"
     ]
    }
   ],
   "source": [
    "nom = 'Dupont'\n",
    "print(nom)\n",
    "print(type(nom))\n",
    "prenom = \"Pierre\" # on peut aussi utiliser les guillemets\n",
    "print(prenom)\n",
    "print(nom, prenom) # ne pas oublier la virgule"
   ]
  },
  {
   "cell_type": "markdown",
   "metadata": {},
   "source": [
    "> Commentaire une variable contenant du une chaine de characteres est une variable de type string"
   ]
  },
  {
   "cell_type": "markdown",
   "metadata": {},
   "source": [
    "On peut concaténer deux chaînes à l’aide de l’opérateur ``` + ```.\n",
    "On peut connaitre la taille d’une chaîne à l’aide de la fonction ```len(« nom de la chaîne »)```."
   ]
  },
  {
   "cell_type": "code",
   "execution_count": 15,
   "metadata": {},
   "outputs": [
    {
     "name": "stdout",
     "output_type": "stream",
     "text": [
      "DupontPierre\n",
      "PierreDupont\n",
      "Pierre Dupont\n",
      "Pierre Dupont 18 ans\n",
      "20\n"
     ]
    }
   ],
   "source": [
    "chaine = nom + prenom # concaténation 2 chaînes\n",
    "print(chaine)\n",
    "chaine = prenom + nom # concaténation 2 chaînes\n",
    "print(chaine)\n",
    "chaine = prenom + ' ' + nom\n",
    "print(chaine)\n",
    "chaine = chaine + ' 18 ans' # en plus court : chaine += ' 18 ans'\n",
    "print(chaine)\n",
    "print(len(chaine))"
   ]
  },
  {
   "cell_type": "markdown",
   "metadata": {},
   "source": [
    "Que faire lorsqu’on a une apostrophe dans une variable str ?"
   ]
  },
  {
   "cell_type": "code",
   "execution_count": null,
   "metadata": {},
   "outputs": [],
   "source": [
    "chaine = 'Aujourd'hui'"
   ]
  },
  {
   "cell_type": "markdown",
   "metadata": {},
   "source": [
    "> Observation : ça ne marche pas"
   ]
  },
  {
   "cell_type": "code",
   "execution_count": 16,
   "metadata": {},
   "outputs": [
    {
     "name": "stdout",
     "output_type": "stream",
     "text": [
      "Aujourd'hui\n",
      "Aujourd'hui\n"
     ]
    }
   ],
   "source": [
    "chaine = 'Aujourd\\'hui' # séquence d'échappement \\'\n",
    "print(chaine)\n",
    "chaine = \"Aujourd'hui\"\n",
    "print(chaine)"
   ]
  },
  {
   "cell_type": "markdown",
   "metadata": {},
   "source": [
    "> Commentez... on peut utiliser des guillemets ou un backslash pour garder l'apostrophe"
   ]
  },
  {
   "cell_type": "markdown",
   "metadata": {},
   "source": [
    "La séquence d'échappement ```\\n``` représente un saut ligne. On peut utiliser les triples guillemets (ou les triples apostrophes) pour encadrer une chaîne définie sur plusieurs lignes :"
   ]
  },
  {
   "cell_type": "code",
   "execution_count": 17,
   "metadata": {},
   "outputs": [
    {
     "name": "stdout",
     "output_type": "stream",
     "text": [
      "Première ligne\n",
      "Deuxième ligne\n",
      "Première ligne\n",
      "Deuxième ligne\n"
     ]
    }
   ],
   "source": [
    "chaine = 'Première ligne\\nDeuxième ligne'\n",
    "print(chaine)\n",
    "chaine = \"\"\"Première ligne\n",
    "Deuxième ligne\"\"\"\n",
    "print(chaine)\n"
   ]
  },
  {
   "cell_type": "markdown",
   "metadata": {},
   "source": [
    "> Commentez... \\n = retour a la ligne\n",
    "on peut aussi en utilisant 3 guillemets"
   ]
  },
  {
   "cell_type": "markdown",
   "metadata": {},
   "source": [
    "La fonction ```input()``` lance une invite de commande (en anglais : prompt) pour saisir une chaîne de caractères."
   ]
  },
  {
   "cell_type": "code",
   "execution_count": null,
   "metadata": {},
   "outputs": [],
   "source": [
    "chaine = input(\"Entrer un nombre réel : \")\n",
    "print(chaine)\n",
    "print(type(chaine))"
   ]
  },
  {
   "cell_type": "code",
   "execution_count": null,
   "metadata": {},
   "outputs": [],
   "source": [
    "nombre = float(chaine) # conversion de type pour pouvoir faire un calcul\n",
    "print(nombre**2)"
   ]
  },
  {
   "cell_type": "markdown",
   "metadata": {},
   "source": [
    "#### e. Le type bool (booléen)\n",
    "Cette variable peut avoir deux valeurs : True (vrai) ou False (faux)  \n",
    "Avec ces variables, on peut utiliser les opérateurs de comparaisons :  \n",
    "|Opérateur | Signification | Remarques |\n",
    "|--------- |--------- | --------- |\n",
    "| ```<``` |strictement inférieur\n",
    "| ```<=``` | inférieur ou égal\n",
    "|```>```|strictement supérieur\n",
    "| ```>=``` |supérieur ou égal\n",
    "|```==```|égal|Attention : deux signes ==\n",
    "| ```!=```| différent\n",
    "\n",
    "\n",
    "On peut aussi utiliser les opérateurs logiques ```and```, ```or``` et ```not```."
   ]
  },
  {
   "cell_type": "code",
   "execution_count": null,
   "metadata": {},
   "outputs": [],
   "source": [
    "variable = True\n",
    "print(variable)\n",
    "print(type(variable))"
   ]
  },
  {
   "cell_type": "code",
   "execution_count": null,
   "metadata": {},
   "outputs": [],
   "source": [
    "b = 10\n",
    "print(b>8)\n",
    "print(b==5)\n",
    "print(b != 10)\n",
    "print(0 <= b <= 20)"
   ]
  },
  {
   "cell_type": "markdown",
   "metadata": {},
   "source": [
    "> C'est clair ?  \n",
    "Mais oui c'est clair"
   ]
  },
  {
   "cell_type": "code",
   "execution_count": null,
   "metadata": {},
   "outputs": [],
   "source": [
    "note = 13.0\n",
    "mention_ab = note >= 12.0 and note < 14.0 # ou bien : mention_ab = 12.0 <= note < 14.0\n",
    "print(mention_ab)"
   ]
  },
  {
   "cell_type": "code",
   "execution_count": null,
   "metadata": {},
   "outputs": [],
   "source": [
    "print(not mention_ab)\n",
    "print(note == 20.0 or note == 0.0)"
   ]
  },
  {
   "cell_type": "markdown",
   "metadata": {},
   "source": [
    "On peut aussi utiliser l’opérateur ```in``` avec les chaînes de caractères."
   ]
  },
  {
   "cell_type": "code",
   "execution_count": 18,
   "metadata": {},
   "outputs": [
    {
     "name": "stdout",
     "output_type": "stream",
     "text": [
      "True\n",
      "False\n"
     ]
    }
   ],
   "source": [
    "chaine = 'Bonsoir'\n",
    "# la sous-chaîne 'soir' fait-elle partie de la chaîne 'Bonsoir' ?\n",
    "resultat = 'soir' in chaine\n",
    "print(resultat)\n",
    "print('b' in chaine)"
   ]
  },
  {
   "cell_type": "markdown",
   "metadata": {},
   "source": [
    "> Explications : il y a \"soir\" dans Bonsoir mais pas \"b\" car le B de Bonsoir est majuscule"
   ]
  },
  {
   "cell_type": "markdown",
   "metadata": {},
   "source": [
    "#### f. Le type tuple (séquence)\n",
    "Un tuple est une séquence."
   ]
  },
  {
   "cell_type": "code",
   "execution_count": null,
   "metadata": {},
   "outputs": [],
   "source": [
    "mon_tuple = (5, 8, 6, 9)\n",
    "print(type(mon_tuple))"
   ]
  },
  {
   "cell_type": "markdown",
   "metadata": {},
   "source": [
    "Dans le code ci-dessus, la variable ```mon_tuple``` référence un tuple, ce tuple est constitué des entiers 5, 8, 6 et 9.  Chaque élément du tuple est indicé :  \n",
    "* le premier élément du tuple (l'entier 5) possède l'indice 0  \n",
    "* le deuxième élément du tuple (l'entier 8) possède l'indice 1  \n",
    "* le troisième élément du tuple (l'entier 6) possède l'indice 2  \n",
    "* le quatrième élément du tuple (l'entier 9) possède l'indice 3\n",
    "\n",
    "Pour accéder à un élément du tuple, il faut utiliser la \"notation entre crochets\""
   ]
  },
  {
   "cell_type": "code",
   "execution_count": 21,
   "metadata": {},
   "outputs": [
    {
     "name": "stdout",
     "output_type": "stream",
     "text": [
      "6\n",
      "8\n",
      "bonjour   le   monde !\n"
     ]
    }
   ],
   "source": [
    "mon_tuple = (5, 8, 6, 9)\n",
    "print(mon_tuple[2])\n",
    "print(mon_tuple[1]) # remplacez .. pour que cela affiche 8\n",
    "mon_tuple2 = (\"le\", \"monde\", \"bonjour\")\n",
    "print(mon_tuple2[2], \" \", mon_tuple2[0], \" \", mon_tuple2[1] , \"!\")"
   ]
  },
  {
   "cell_type": "markdown",
   "metadata": {},
   "source": [
    "#### g. Le type list (liste)\n",
    "Il n'est pas possible de modifier un tuple après sa création (on parle d'objet \"immutable\"), si vous essayez de modifier un tuple existant, l'interpréteur Python vous renverra une erreur.  \n",
    "Les listes sont, comme les tuples, des séquences, mais à la différence des tuples, elles sont modifiables (on parle d'objets \"mutables\").  \n",
    "Pour créer une liste, il existe différentes méthodes : une de ces méthodes ressemble beaucoup à la création d'un tuple :"
   ]
  },
  {
   "cell_type": "code",
   "execution_count": null,
   "metadata": {},
   "outputs": [],
   "source": [
    "ma_liste = [5, 8, 6, 9]\n",
    "print(type(ma_liste))\n",
    "print(ma_liste[2])\n",
    "ma_liste[2] = 15 # on remplace l’élément d’indice 2 par 15\n",
    "print(ma_liste)"
   ]
  },
  {
   "cell_type": "code",
   "execution_count": null,
   "metadata": {},
   "outputs": [],
   "source": [
    "ma_liste.append(33) # on ajoute un élément 33 car la liste est mutable\n",
    "print(ma_liste)\n",
    "del ma_liste[1] # on supprime l’élément d’indice 1»\n",
    "print(ma_liste)\n",
    "print(len(ma_liste)) # on affiche la taille de la liste\n"
   ]
  },
  {
   "cell_type": "markdown",
   "metadata": {},
   "source": [
    "On peut créer une liste à partir d’une chaîne de caractères c’est l’indexage et le slicing."
   ]
  },
  {
   "cell_type": "code",
   "execution_count": 1,
   "metadata": {},
   "outputs": [
    {
     "name": "stdout",
     "output_type": "stream",
     "text": [
      "D\n",
      "u\n",
      "upo\n",
      "pont Pierre\n",
      "e\n",
      "Pierre\n"
     ]
    }
   ],
   "source": [
    "chaine = 'Dupont Pierre'\n",
    "print(chaine[0]) # premier caractère (indice 0)\n",
    "print(chaine[1]) # deuxième caractère (indice 1)\n",
    "print(chaine[1:4]) # slicing\n",
    "print(chaine[2:]) # slicing\n",
    "print(chaine[-1]) # dernier caractère (indice -1)\n",
    "print(chaine[-6:]) # slicing"
   ]
  },
  {
   "cell_type": "markdown",
   "metadata": {},
   "source": [
    "> Expliquez :"
   ]
  },
  {
   "cell_type": "markdown",
   "metadata": {},
   "source": [
    "|Chaîne |D|u|p|o|n|t| |P|i|e|r|r|e|\n",
    "|-|-|-|-|-|-|-|-|-|-|-|-|-|-|\n",
    "|Indice >0|0|1|\n",
    "|Indice <0||||||||||||-2|-1|"
   ]
  },
  {
   "cell_type": "markdown",
   "metadata": {},
   "source": [
    "On peut faire des listes de listes"
   ]
  },
  {
   "cell_type": "code",
   "execution_count": 5,
   "metadata": {},
   "outputs": [],
   "source": [
    "m = [[1, 3, 4], [5 ,6 ,8], [2, 1, 3], [7, 8, 15]]"
   ]
  },
  {
   "cell_type": "markdown",
   "metadata": {},
   "source": [
    "Nous obtenons ainsi quelque chose qui ressemble beaucoup à un \"objet mathématique\" très utilisé: une matrice  \n",
    "Il est évidemment possible d'utiliser les indices de position avec ces \"listes de listes\". Pour cela nous allons considérer notre liste de listes comme une matrice, c'est à dire en utilisant les notions de \"ligne\" et de \"colonne\". Dans la matrice ci-dessus :  \n",
    "En ce qui concerne les lignes : \n",
    "* 1, 3, 4 constituent la première ligne \n",
    "* 5, 6, 8 constituent la deuxième ligne \n",
    "* 2, 1, 3 constituent la troisième ligne \n",
    "* 7, 8, 15 constituent la quatrième ligne  \n",
    "  \n",
    "En ce qui concerne les colonnes :\n",
    "* 1, 5, 2, 7 constituent la première colonne \n",
    "* 3, 6, 1, 8 constituent la deuxième colonne \n",
    "* 4, 8, 3, 15 constituent la troisième colonne\n",
    "  \n",
    "Pour cibler un élément particulier de la matrice, on utilise la notation avec \"doubles crochets\" : ```m[ligne][colonne]``` (la première ligne et la première colonne ont pour indice 0)."
   ]
  },
  {
   "cell_type": "code",
   "execution_count": 24,
   "metadata": {},
   "outputs": [
    {
     "name": "stdout",
     "output_type": "stream",
     "text": [
      "8\n"
     ]
    }
   ],
   "source": [
    "m = [[1, 3, 4], [5 ,6 ,8], [2, 1, 3], [7, 8, 15]]\n",
    "print(m[1][2])"
   ]
  },
  {
   "cell_type": "markdown",
   "metadata": {},
   "source": [
    "Comment afficher le 7 de la matrice précédente ?"
   ]
  },
  {
   "cell_type": "code",
   "execution_count": 6,
   "metadata": {},
   "outputs": [
    {
     "data": {
      "text/plain": [
       "7"
      ]
     },
     "execution_count": 6,
     "metadata": {},
     "output_type": "execute_result"
    }
   ],
   "source": [
    "m = [[1, 3, 4], [5 ,6 ,8], [2, 1, 3], [7, 8, 15]]\n",
    "m[3][0]"
   ]
  },
  {
   "cell_type": "markdown",
   "metadata": {},
   "source": [
    "On pourrait s'interroger sur l'intérêt d'utiliser un tuple puisque la liste permet plus de choses !  \n",
    "La réponse est simple : les opérations sur les tuples sont plus \"rapides\". Quand vous savez que votre liste ne sera pas modifiée, il est préférable d'utiliser un tuple à la place d'une liste."
   ]
  }
 ],
 "metadata": {
  "kernelspec": {
   "display_name": "Python 3",
   "language": "python",
   "name": "python3"
  },
  "language_info": {
   "codemirror_mode": {
    "name": "ipython",
    "version": 3
   },
   "file_extension": ".py",
   "mimetype": "text/x-python",
   "name": "python",
   "nbconvert_exporter": "python",
   "pygments_lexer": "ipython3",
   "version": "3.10.7"
  },
  "orig_nbformat": 4
 },
 "nbformat": 4,
 "nbformat_minor": 2
}
