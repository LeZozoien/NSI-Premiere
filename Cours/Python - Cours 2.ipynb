{
 "cells": [
  {
   "cell_type": "markdown",
   "metadata": {},
   "source": [
    "### 4. Les conditions\n",
    "#### a) La condition IF\n",
    "La syntaxe de la condition est la suivante :\n"
   ]
  },
  {
   "cell_type": "code",
   "execution_count": null,
   "metadata": {},
   "outputs": [],
   "source": [
    "if expression:    # ne pas oublier le signe de ponctuation ':'\n",
    "    bloc d instructions 1  # attention à l'indentation :(jaune)\n",
    "else:   # else est au même niveau que if\n",
    "    bloc d instructions 2  # attention à l'indentation"
   ]
  },
  {
   "cell_type": "markdown",
   "metadata": {},
   "source": [
    "Si l'expression est vraie (True) alors le bloc d'instructions 1 est exécuté.\n",
    "Si l'expression est fausse (False) alors c'est le bloc d'instructions 2 qui est exécuté.\n",
    "\n",
    "Tester le script ci-dessous avec 33, 18 et 8 comme note :"
   ]
  },
  {
   "cell_type": "code",
   "execution_count": 2,
   "metadata": {},
   "outputs": [
    {
     "name": "stdout",
     "output_type": "stream",
     "text": [
      "J'ai la moyenne\n",
      "Fin du programme\n"
     ]
    }
   ],
   "source": [
    "chaine = input(\"Note sur 20 : \")\n",
    "note = float(chaine)\n",
    "if note >= 10.0:\n",
    "    # ce bloc est exécuté si l'expression (note >= 10.0) est vraie\n",
    "    print(\"J'ai la moyenne\")\n",
    "else:\n",
    "    # ce bloc est exécuté si l'expression (note >= 10.0) est fausse\n",
    "    print(\"C'est en dessous de la moyenne\")\n",
    "print(\"Fin du programme\")"
   ]
  },
  {
   "cell_type": "raw",
   "metadata": {},
   "source": [
    "Vos observations : on peut mettre une note au dessus de 20\n"
   ]
  },
  {
   "cell_type": "markdown",
   "metadata": {},
   "source": [
    "Pour traiter le cas des notes invalides (<0 ou >20), on peut imbriquer des instructions\n",
    "conditionnelles.\n",
    "\n",
    "Tester le script ci-dessous avec 33,20,0,18 et 8 comme note:"
   ]
  },
  {
   "cell_type": "code",
   "execution_count": 3,
   "metadata": {},
   "outputs": [
    {
     "name": "stdout",
     "output_type": "stream",
     "text": [
      "Note invalide !\n",
      "Fin du programme\n"
     ]
    }
   ],
   "source": [
    "chaine = input(\"Note sur 20 : \")\n",
    "note = float(chaine)\n",
    "if note > 20.0 or note < 0.0:\n",
    "    print(\"Note invalide !\")\n",
    "else:\n",
    "    if note >= 10.0:\n",
    "        print(\"J'ai la moyenne\")\n",
    "        if note == 20.0:\n",
    "            # ce bloc est exécuté si l'expression (note == 20.0) est vraie\n",
    "            print(\"C'est même excellent !\")\n",
    "    else:\n",
    "        print(\"C'est en dessous de la moyenne\")\n",
    "        if note == 0.0:\n",
    "            # ce bloc est exécuté si l'expression (note == 0.0) est vraie\n",
    "            print(\"... lamentable !\")\n",
    "print(\"Fin du programme\")"
   ]
  },
  {
   "cell_type": "raw",
   "metadata": {},
   "source": [
    "Vos observations : Cette fois on ne peut pas mettre 33\n"
   ]
  },
  {
   "cell_type": "markdown",
   "metadata": {},
   "source": [
    "Une instruction elif (contraction de else if) est toujours associée à une instruction if.\n",
    "\n",
    "Syntaxe :"
   ]
  },
  {
   "cell_type": "code",
   "execution_count": null,
   "metadata": {},
   "outputs": [],
   "source": [
    "if expression 1:\n",
    "    bloc d instructions 1\n",
    "elif expression 2:\n",
    "    bloc d instructions 2\n",
    "elif expression 3:\n",
    "    bloc d instructions 3 # ici deux instructions elif, mais il n'y a pas de limitation\n",
    "else:\n",
    "    bloc d instructions 4"
   ]
  },
  {
   "cell_type": "markdown",
   "metadata": {},
   "source": [
    "Si l'expression 1 est vraie alors le bloc d'instructions 1 est exécuté, et on passe à la suite du programme.\n",
    "\n",
    "Si l'expression 1 est fausse alors on teste l'expression 2 :\n",
    "- si l'expression 2 est vraie on exécute le bloc d'instructions 2, et on passe à la suite du\n",
    "programme.\n",
    "- si l'expression 2 est fausse alors on teste l'expression 3, etc.\n",
    "\n",
    "Le bloc d'instructions 4 est donc exécuté si toutes les expressions sont fausses (c'est le bloc \"par\n",
    "défaut\").\n",
    "\n",
    "Parfois il n'y a rien à faire. Dans ce cas, on peut omettre l'instruction else.\n",
    "\n",
    "Tester le script suivant avec 33,20, 0, 18 et 8 comme note:"
   ]
  },
  {
   "cell_type": "code",
   "execution_count": null,
   "metadata": {},
   "outputs": [],
   "source": [
    "note = float(input(\"Note sur 20 : \"))\n",
    "if note == 0.0:\n",
    "    print(\"C'est en dessous de la moyenne\")\n",
    "    print(\"... lamentable !\")\n",
    "elif note == 20.0:\n",
    "    print(\"J'ai la moyenne\")\n",
    "    print(\"C'est même excellent !\")\n",
    "elif note < 10.0 and note > 0.0: # ou bien : elif 0.0 < note < 10.0:\n",
    "    print(\"C'est en dessous de la moyenne\")\n",
    "elif note >= 10.0 and note < 20.0: # ou bien : elif 10.0 <= note < 20.0:\n",
    "    print(\"J'ai la moyenne\")\n",
    "else:\n",
    "    print(\"Note invalide !\")\n",
    "print(\"Fin du programme\")"
   ]
  },
  {
   "cell_type": "markdown",
   "metadata": {},
   "source": [
    "Vos observations :\n",
    "\n",
    "Quelle différence avec le programme précédent ?\n",
    "\n",
    "On a différents commentaires\n"
   ]
  },
  {
   "cell_type": "markdown",
   "metadata": {},
   "source": [
    "### 5 Les boucles\n",
    "#### a) La boucle While\n",
    "Une boucle permet d'exécuter une portion de code plusieurs fois de suite.\n",
    "\n",
    "La syntaxe de la boucle while est la suivante :"
   ]
  },
  {
   "cell_type": "code",
   "execution_count": null,
   "metadata": {},
   "outputs": [],
   "source": [
    "while expression: # ne pas oublier le signe ':'\n",
    "    bloc d instructions 1 # attention à l'indentation."
   ]
  },
  {
   "cell_type": "markdown",
   "metadata": {},
   "source": [
    "Si l'expression est vraie (True) le bloc d'instructions 1 est exécuté, puis l'expression est à nouveau évaluée. Le cycle continue jusqu'à ce que l'expression soit fausse (False).\n",
    "\n",
    "Executer le script ci-dessous :"
   ]
  },
  {
   "cell_type": "code",
   "execution_count": 4,
   "metadata": {},
   "outputs": [
    {
     "name": "stdout",
     "output_type": "stream",
     "text": [
      "1 On est dans la boucle\n",
      "2 On est dans la boucle\n",
      "3 On est dans la boucle\n",
      "4 On est dans la boucle\n",
      "5 On est dans la boucle\n",
      "On sort de la boucle\n"
     ]
    }
   ],
   "source": [
    "# initialisation de la variable de comptage\n",
    "compteur = 1\n",
    "while compteur<=5:\n",
    "    # ce bloc est exécuté tant que la condition (compteur<=5) est vraie\n",
    "    print (compteur, \"On est dans la boucle\")\n",
    "    compteur += 1 # incrémentation du compteur, compteur = compteur + 1\n",
    "print (\"On sort de la boucle\")"
   ]
  },
  {
   "cell_type": "raw",
   "metadata": {},
   "source": [
    "Vos observations :\n"
   ]
  },
  {
   "cell_type": "markdown",
   "metadata": {},
   "source": [
    "Exécuter le script ci-dessous :"
   ]
  },
  {
   "cell_type": "code",
   "execution_count": 5,
   "metadata": {},
   "outputs": [
    {
     "name": "stdout",
     "output_type": "stream",
     "text": [
      "1 * 5 = 5\n",
      "2 * 5 = 10\n",
      "3 * 5 = 15\n",
      "4 * 5 = 20\n",
      "5 * 5 = 25\n",
      "6 * 5 = 30\n",
      "7 * 5 = 35\n",
      "8 * 5 = 40\n",
      "9 * 5 = 45\n",
      "10 * 5 = 50\n",
      "Et voilà !\n"
     ]
    }
   ],
   "source": [
    "# Table de multiplication par 5\n",
    "compteur = 1# initialisation de la variable de comptage\n",
    "while compteur <= 10:\n",
    "    # ce bloc est exécuté tant que la condition (compteur <= 10) est vraie\n",
    "    print(compteur, '* 5 =', compteur*5)\n",
    "    compteur += 1 # incrémentation du compteur, compteur = compteur + 1\n",
    "print(\"Et voilà !\")"
   ]
  },
  {
   "cell_type": "raw",
   "metadata": {},
   "source": [
    "Vos observations :\n"
   ]
  },
  {
   "cell_type": "markdown",
   "metadata": {},
   "source": [
    "Exécuter le script suivant :"
   ]
  },
  {
   "cell_type": "code",
   "execution_count": 6,
   "metadata": {},
   "outputs": [
    {
     "name": "stdout",
     "output_type": "stream",
     "text": [
      "Heure courante  11:36:01\n",
      "A bientôt\n"
     ]
    }
   ],
   "source": [
    "# Affichage de l’heure courante\n",
    "import time # importation du module time\n",
    "quitter = 'n' # initialisation\n",
    "while quitter != 'o':\n",
    "    # ce bloc est exécuté tant que la condition est vraie\n",
    "    # strftime() est une fonction du module time\n",
    "    print('Heure courante ', time.strftime('%H:%M:%S'))\n",
    "    quitter = input(\"Voulez-vous quitter le programme (o/n) ? \")\n",
    "print(\"A bientôt\")"
   ]
  },
  {
   "cell_type": "raw",
   "metadata": {},
   "source": [
    "Vos observations : si on marque o on quitte le programme\n"
   ]
  },
  {
   "cell_type": "markdown",
   "metadata": {},
   "source": [
    "Exécuter le script suivant **LIGNE PAR LIGNE (bouton \"Run by line\")** :"
   ]
  },
  {
   "cell_type": "code",
   "execution_count": null,
   "metadata": {},
   "outputs": [],
   "source": [
    "# Boucle infinie\n",
    "i=0.0\n",
    "while i != 1:\n",
    "    i=i+0.1\n",
    "    print(i)\n",
    "print(\"A bientôt\")"
   ]
  },
  {
   "cell_type": "raw",
   "metadata": {},
   "source": [
    "Que se passe-t-il ? \n",
    "\n",
    "Que peut-on en penser ?\n"
   ]
  },
  {
   "cell_type": "markdown",
   "metadata": {},
   "source": [
    "#### b) La boucle FOR\n",
    "La syntaxe de la boucle For est la suivante :"
   ]
  },
  {
   "cell_type": "code",
   "execution_count": null,
   "metadata": {},
   "outputs": [],
   "source": [
    "for (élément) in (séquence): # ne pas oublier le signe ':'\n",
    "    bloc d instructions # attention à l'indentation."
   ]
  },
  {
   "cell_type": "markdown",
   "metadata": {},
   "source": [
    "Exécuter le script ci-dessous :"
   ]
  },
  {
   "cell_type": "code",
   "execution_count": null,
   "metadata": {},
   "outputs": [],
   "source": [
    "# Exemple avec une séquence de caractères\n",
    "chaine = 'Bonjour'\n",
    "for lettre in chaine: # lettre est la variable d'itération\n",
    "    print(lettre)\n",
    "print(\"Fin de la boucle\")"
   ]
  },
  {
   "cell_type": "markdown",
   "metadata": {},
   "source": [
    "La variable lettre est initialisée avec le premier élément de la séquence ('B').  \n",
    "Le bloc d'instructions est alors exécuté.  \n",
    "Puis la variable lettre est mise à jour avec le second élément de la séquence ('o') et le bloc d'instructions à nouveau exécuté...  \n",
    "Le bloc d'instructions est exécuté une dernière fois lorsqu'on arrive au dernier élément de la séquence ('r').\n",
    "\n",
    "Exécuter le script ci-dessous :"
   ]
  },
  {
   "cell_type": "code",
   "execution_count": null,
   "metadata": {},
   "outputs": [],
   "source": [
    "# Exemple avec les éléments d'une liste\n",
    "maliste = ['Pierre', 67.5, 18]\n",
    "for element in maliste:\n",
    "    print(element)\n",
    "print(\"Fin de la boucle\")"
   ]
  },
  {
   "cell_type": "raw",
   "metadata": {},
   "source": [
    "Vos observations :\n"
   ]
  },
  {
   "cell_type": "markdown",
   "metadata": {},
   "source": [
    "Exécuter le script ci-dessous :"
   ]
  },
  {
   "cell_type": "code",
   "execution_count": 1,
   "metadata": {},
   "outputs": [
    {
     "name": "stdout",
     "output_type": "stream",
     "text": [
      "[1, 2, 3, 4]\n",
      "1\n",
      "2\n",
      "3\n",
      "4\n",
      "Fin de la boucle\n"
     ]
    }
   ],
   "source": [
    "# Fonction range()\n",
    "print(list(range(1,5)))\n",
    "for i in range(1,5):\n",
    "    print(i)\n",
    "print(\"Fin de la boucle\")"
   ]
  },
  {
   "cell_type": "raw",
   "metadata": {},
   "source": [
    "A quoi sert la fonction range(a,b) ?\n",
    "\n",
    "Répeter qqch un certain nombre de fois"
   ]
  },
  {
   "cell_type": "markdown",
   "metadata": {},
   "source": [
    "Exécuter le script ci-dessous :"
   ]
  },
  {
   "cell_type": "code",
   "execution_count": null,
   "metadata": {},
   "outputs": [],
   "source": [
    "# Table de multiplication\n",
    "for compteur in range(1,11):\n",
    "    print(compteur, '* 9 =', compteur*9)\n",
    "print(\"Et voilà !\")"
   ]
  },
  {
   "cell_type": "code",
   "execution_count": null,
   "metadata": {},
   "outputs": [],
   "source": [
    "Vos observations :\n"
   ]
  },
  {
   "cell_type": "markdown",
   "metadata": {},
   "source": [
    "#### c) L'instruction break\n",
    "L'instruction break provoque une sortie immédiate d'une boucle while ou d'une boucle for.  \n",
    "Dans l'exemple suivant, l'expression True est toujours vraie : on a une boucle sans fin. L'instruction break est donc le seul moyen de sortir de la boucle.  \n",
    "Exécuter le script ci-dessous :"
   ]
  },
  {
   "cell_type": "code",
   "execution_count": null,
   "metadata": {},
   "outputs": [],
   "source": [
    "import time # importation du module time\n",
    "while True:\n",
    "    # strftime() est une fonction du module time\n",
    "    print ('Heure courante ',time.strftime('%H:%M:%S'))\n",
    "    quitter = input('Voulez-vous quitter le programme (o/n) ? ')\n",
    "    if quitter == 'o':\n",
    "        break\n",
    "print ('A bientôt')"
   ]
  },
  {
   "cell_type": "raw",
   "metadata": {},
   "source": [
    "Vos observations :\n"
   ]
  },
  {
   "cell_type": "markdown",
   "metadata": {},
   "source": [
    "Si vous connaissez le nombre de boucles à effectuer, utiliser une boucle for. Autrement, utiliser une boucle while (notamment pour faire des boucles sans fin)."
   ]
  }
 ],
 "metadata": {
  "kernelspec": {
   "display_name": "Python 3",
   "language": "python",
   "name": "python3"
  },
  "language_info": {
   "codemirror_mode": {
    "name": "ipython",
    "version": 3
   },
   "file_extension": ".py",
   "mimetype": "text/x-python",
   "name": "python",
   "nbconvert_exporter": "python",
   "pygments_lexer": "ipython3",
   "version": "3.10.7"
  },
  "orig_nbformat": 4
 },
 "nbformat": 4,
 "nbformat_minor": 2
}
