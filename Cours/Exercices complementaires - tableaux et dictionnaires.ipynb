{
 "cells": [
  {
   "cell_type": "markdown",
   "metadata": {},
   "source": [
    "# Exercices complémentaires\n",
    "## Tableaux\n",
    "\n",
    "Ecrire des fonctions pour :\n",
    "\n",
    "Chercher le nombre d'occurences uniques dans une liste  \n",
    "Chercher  si deux mots sont des anagrammes l'un de l'autre  \n",
    "chercher l'occurrence d'une liste qui apparait le plus souvent  "
   ]
  },
  {
   "cell_type": "markdown",
   "metadata": {},
   "source": [
    "> Chercher le nombre d'occurences uniques dans une liste \n",
    "\n",
    "Pistes :  \n",
    "La liste est d'abord triée.  \n",
    "On vérifie si chaque élément est différent de son prédécesseur et de son successeur.  \n",
    "Si un élément est différent à la fois de son prédécesseur et de son successeur, cela signifie qu'il n'apparaît qu'une seule fois dans la liste, et on incrémente alors le compteur nb_uniques.  \n",
    "Des vérifications supplémentaires sont effectuées pour le premier et le dernier élément, car ils n'ont qu'un seul voisin dans la liste triée."
   ]
  },
  {
   "cell_type": "code",
   "execution_count": null,
   "metadata": {},
   "outputs": [],
   "source": []
  },
  {
   "cell_type": "markdown",
   "metadata": {},
   "source": [
    "> Chercher  si deux mots sont des anagrammes l'un de l'autre\n",
    "\n",
    "convertir chaque mot en une liste de ses lettres, trier ces listes, puis comparer les listes triées. Si les listes triées sont identiques, alors les mots sont des anagrammes. "
   ]
  },
  {
   "cell_type": "code",
   "execution_count": null,
   "metadata": {},
   "outputs": [],
   "source": []
  },
  {
   "cell_type": "markdown",
   "metadata": {},
   "source": [
    "# Exercices sur les Dictionnaires en Python\n",
    "## Syntaxes de Base des Dictionnaires en Python\n",
    "\n",
    "Les dictionnaires en Python sont des structures de données qui stockent des paires clé-valeur. Voici les opérations de base nécessaires pour travailler avec les dictionnaires :\n",
    "\n",
    "### Création d'un Dictionnaire\n",
    "- **Vide** : `mon_dictionnaire = {}`\n",
    "- **Avec des valeurs initiales** : `mon_dictionnaire = {'cle1': valeur1, 'cle2': valeur2}`\n",
    "\n",
    "### Accès aux Éléments\n",
    "- **Lire une valeur** : `valeur = mon_dictionnaire['cle']`\n",
    "- **Lire avec `get` (évite les erreurs si la clé n'existe pas)** : `valeur = mon_dictionnaire.get('cle', valeur_par_defaut)`\n",
    "\n",
    "### Modification et Ajout d'Éléments\n",
    "- **Ajouter ou Modifier** : `mon_dictionnaire['nouvelle_cle'] = nouvelle_valeur`\n",
    "- **Mettre à jour avec un autre dictionnaire** : `mon_dictionnaire.update(autre_dictionnaire)`\n",
    "\n",
    "### Suppression d'Éléments\n",
    "- **Supprimer une clé** : `del mon_dictionnaire['cle']`\n",
    "- **Supprimer avec `pop` (retourne la valeur supprimée)** : `valeur = mon_dictionnaire.pop('cle')`\n",
    "\n",
    "### Parcours d'un Dictionnaire\n",
    "- **Clés** : `for cle in mon_dictionnaire.keys():`\n",
    "- **Valeurs** : `for valeur in mon_dictionnaire.values():`\n",
    "- **Paires clé-valeur** : `for cle, valeur in mon_dictionnaire.items():`\n",
    "\n",
    "### Test d'Existence\n",
    "- **Vérifier si une clé existe** : `if 'cle' in mon_dictionnaire:`\n",
    "\n",
    "### Taille d'un Dictionnaire\n",
    "- **Nombre d'éléments** : `taille = len(mon_dictionnaire)`\n",
    "\n",
    "### Dictionnaires Imbriqués\n",
    "- **Accès à un élément imbriqué** : `valeur = mon_dictionnaire['cle_externe']['cle_interne']`\n"
   ]
  },
  {
   "cell_type": "markdown",
   "metadata": {},
   "source": [
    "## Exercice 1: Comptage des Lettres d'un Mot\n",
    "- **Objectif**: Écrire une fonction qui prend un mot en entrée et renvoie un dictionnaire où chaque clé est une lettre du mot et chaque valeur est le nombre d'occurrences de cette lettre.\n",
    "- **Exemple**:\n",
    "  - Entrée: `\"python\"`\n",
    "  - Sortie: `{'p': 1, 'y': 1, 't': 1, 'h': 1, 'o': 1, 'n': 1}`\n",
    "\n",
    "## Exercice 2: Création d'un Répertoire Téléphonique\n",
    "- **Objectif**: Créer un dictionnaire qui agit comme un répertoire téléphonique. Écrire des fonctions pour ajouter, supprimer, et rechercher des entrées.\n",
    "- **Fonctionnalités**:\n",
    "  - Ajouter\n",
    "  - Rechercher\n",
    "  - Supprimer\n",
    "\n",
    "## Exercice 3: Inversion de Dictionnaire\n",
    "- **Objectif**: Écrire une fonction qui inverse les clés et les valeurs d'un dictionnaire.\n",
    "- **Exemple**:\n",
    "  - Entrée: `{1: 'a', 2: 'b', 3: 'a'}`\n",
    "  - Sortie: `{'a': 3, 'b': 2}`\n",
    "\n",
    "## Exercice 4: Comptage de Mots dans un Texte\n",
    "- **Objectif**: Analyser un texte et retourner un dictionnaire avec le comptage des occurrences de chaque mot.\n",
    "- **Défi supplémentaire**: Ignorer la casse et la ponctuation.\n",
    "\n",
    "## Exercice 5: Grouper des Éléments par Caractéristique Commune\n",
    "- **Objectif**: Regrouper des éléments d'une liste de tuples dans un dictionnaire par caractéristique commune.\n",
    "- **Exemple**:\n",
    "  - Entrée: `[('Alice', 'A'), ('Bob', 'B'), ('Clara', 'A')]`\n",
    "  - Sortie: `{'A': ['Alice', 'Clara'], 'B': ['Bob']}`\n",
    "\n",
    "## Exercice 6: Implémentation d'une Cache pour la Suite de Syracuse\n",
    "\n",
    "### Objectif\n",
    "Utiliser un dictionnaire pour implémenter une cache qui mémorise les résultats intermédiaires de la suite de Syracuse. Cette technique, appelée memoization, permet d'améliorer les performances en évitant les calculs répétitifs.\n",
    "\n",
    "### Description de la Suite de Syracuse\n",
    "La suite de Syracuse, également connue sous le nom de problème 3x+1, est définie comme suit pour un nombre entier positif `n` :\n",
    "- Si `n` est pair, le prochain terme de la suite est `n / 2`.\n",
    "- Si `n` est impair, le prochain terme de la suite est `3n + 1`.\n",
    "La suite se termine lorsqu'elle atteint le nombre 1.\n",
    "\n",
    "### Tâches\n",
    "1. **Écrire une Fonction de Syracuse** : Créez une fonction `syracuse(n)` qui calcule la suite de Syracuse pour un nombre entier `n` donné. La fonction doit renvoyer la suite sous forme de liste, en commençant par le nombre initial `n` et en terminant par 1.\n",
    "   \n",
    "2. **Implémenter la Cache** : Modifiez la fonction `syracuse` pour qu'elle utilise un dictionnaire comme cache. Avant de calculer le terme suivant de la suite, la fonction doit vérifier si ce terme a déjà été calculé et stocké dans la cache. Si c'est le cas, elle doit utiliser la valeur de la cache au lieu de recalculer le terme.\n",
    "   \n",
    "3. **Tester la Performance** : Testez la performance de votre fonction avec et sans la cache pour un grand nombre (par exemple, 10000). Comparez le temps d'exécution dans les deux cas pour évaluer l'impact de la memoization.\n",
    "\n",
    "### Exemple\n",
    "- Entrée : `n = 7`\n",
    "- Sortie sans cache : `[7, 22, 11, 34, 17, 52, 26, 13, 40, 20, 10, 5, 16, 8, 4, 2, 1]`\n",
    "- Sortie avec cache : `[7, 22, 11, 34, 17, 52, 26, 13, 40, 20, 10, 5, 16, 8, 4, 2, 1]` (mais avec un temps d'exécution potentiellement réduit)\n",
    "\n",
    "## Conseils\n",
    "- Pensez à initialiser votre cache (qui peut être un simple dictionnaire) en dehors de la fonction de Syracuse.\n",
    "- Assurez-vous que votre cache stocke les résultats de chaque terme unique de la suite pour qu'ils puissent être réutilisés dans les calculs futurs.\n",
    "- N'oubliez pas de tester votre fonction avec plusieurs valeurs de `n` pour vous assurer que la cache fonctionne comme prévu.\n",
    "\n"
   ]
  },
  {
   "cell_type": "code",
   "execution_count": 16,
   "metadata": {},
   "outputs": [
    {
     "name": "stdout",
     "output_type": "stream",
     "text": [
      "111\n"
     ]
    }
   ],
   "source": [
    "def exercice_1(mot:str)->dict:\n",
    "    enumeration = {}\n",
    "    for char in mot:\n",
    "        if char in enumeration:\n",
    "            enumeration[char] += 1\n",
    "        else:\n",
    "            enumeration[char] = 1\n",
    "    return enumeration\n",
    "\n",
    "def exercice_2_ajouter(annuaire:dict, objet, valeur): annuaire[objet] = valeur;return annuaire\n",
    "def exercice_2_rechercher(annuaire:dict, requete): return annuaire.get(requete)\n",
    "def exercice_2_supprimer(annuaire:dict, valeur):\n",
    "    if valeur in annuaire:annuaire.pop(valeur)\n",
    "    else:return None\n",
    "\n",
    "def exercice_3(a_inverser:dict):\n",
    "    new = {}\n",
    "    for item, value in a_inverser.items():\n",
    "        new[value] = item\n",
    "    return new\n",
    "\n",
    "def exercice_4(phrase:str):\n",
    "    occs = {}\n",
    "    for word in phrase.split():\n",
    "        if word in occs:\n",
    "            occs[word] += 1\n",
    "        else:\n",
    "            occs[word] = 1\n",
    "    return occs\n",
    "\n",
    "def syracuse(num:int, cache:dict):\n",
    "    nb = 0\n",
    "    while num != 1:\n",
    "        nb += 1\n",
    "        if num %2 == 0:\n",
    "            num /= 2\n",
    "        else:\n",
    "            num *= 3; num += 1\n",
    "    return nb\n",
    "\n"
   ]
  }
 ],
 "metadata": {
  "kernelspec": {
   "display_name": "Python 3",
   "language": "python",
   "name": "python3"
  },
  "language_info": {
   "codemirror_mode": {
    "name": "ipython",
    "version": 3
   },
   "file_extension": ".py",
   "mimetype": "text/x-python",
   "name": "python",
   "nbconvert_exporter": "python",
   "pygments_lexer": "ipython3",
   "version": "3.10.7"
  },
  "orig_nbformat": 4
 },
 "nbformat": 4,
 "nbformat_minor": 2
}
