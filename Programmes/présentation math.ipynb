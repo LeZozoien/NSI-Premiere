{
 "cells": [
  {
   "cell_type": "markdown",
   "metadata": {},
   "source": [
    "# I/ Installation et importation\n",
    "\n",
    "### 1. L'installation\n",
    "Le module math est installé d'office avec python\n",
    "\n",
    "### 2. L'importation\n",
    "Le module math peut être importé simplement avec une des commandes suivantes : `import math` `from math import *`"
   ]
  },
  {
   "cell_type": "code",
   "execution_count": null,
   "metadata": {},
   "outputs": [],
   "source": [
    "from math import *\n",
    "import math"
   ]
  },
  {
   "cell_type": "markdown",
   "metadata": {},
   "source": [
    "# II/Les constantes\n",
    "\n",
    "Différentes constantes sont présentes dans le module math, notemment :\n",
    "\n",
    "### 1. Pi"
   ]
  },
  {
   "cell_type": "code",
   "execution_count": null,
   "metadata": {},
   "outputs": [],
   "source": [
    "math.pi  # 3.141592..."
   ]
  },
  {
   "cell_type": "markdown",
   "metadata": {},
   "source": [
    "### 2. e"
   ]
  },
  {
   "cell_type": "code",
   "execution_count": null,
   "metadata": {},
   "outputs": [],
   "source": [
    "math.e  # 2.718281..."
   ]
  },
  {
   "cell_type": "markdown",
   "metadata": {},
   "source": [
    "### 3. Infini"
   ]
  },
  {
   "cell_type": "code",
   "execution_count": null,
   "metadata": {},
   "outputs": [],
   "source": [
    "math.inf  # + infini"
   ]
  },
  {
   "cell_type": "markdown",
   "metadata": {},
   "source": [
    "### 4. Non-nombre"
   ]
  },
  {
   "cell_type": "code",
   "execution_count": null,
   "metadata": {},
   "outputs": [],
   "source": [
    "math.nan  # NaN -> Pas un nombre"
   ]
  },
  {
   "cell_type": "markdown",
   "metadata": {},
   "source": [
    "# III. Les fonctions basiques\n",
    "\n",
    "Le module math comprend plusieurs fonctions basiques, par exemple :\n",
    "\n",
    "### 1. Les arrondis\n",
    "\n",
    "`math.floor()` et `math.ceil()` permettent d'arrondir un flottant à l'entier inférieur ou supérieur respectivement"
   ]
  },
  {
   "cell_type": "code",
   "execution_count": null,
   "metadata": {},
   "outputs": [],
   "source": [
    "print(math.floor(1.5))  #  = 1\n",
    "print(math.ceil(1.5))   #  = 2"
   ]
  },
  {
   "cell_type": "markdown",
   "metadata": {},
   "source": [
    "### 2. Les fonctions trigonométriques\n",
    "\n",
    "##### Les conversions\n",
    "\n",
    "On utilise `math.degrees()` pour convertir de radians à degrés, et `math.radians()` dans le sens inverse"
   ]
  },
  {
   "cell_type": "code",
   "execution_count": null,
   "metadata": {},
   "outputs": [],
   "source": [
    "PI = math.pi\n",
    "\n",
    "math.degrees(PI)  #  =180\n",
    "math.radians(90)  #  = pi/2"
   ]
  },
  {
   "cell_type": "markdown",
   "metadata": {},
   "source": [
    "##### Les fonctions cos, sin et tan\n",
    "\n",
    "Les fonctions cosinus, sinus et tangente sont présentes sous les noms `math.cos()`, `math.sin()` et `math.tan()`\n",
    "\n",
    "Leurs inverses sont également présents sous le nom `math.acos()`, `math.asin()` et `math.atan()`\n",
    "\n",
    "(Attention, les valeurs en entrées sont à fournir en radians)"
   ]
  },
  {
   "cell_type": "code",
   "execution_count": null,
   "metadata": {},
   "outputs": [],
   "source": [
    "PI = math.pi\n",
    "\n",
    "print(math.cos(PI),\n",
    "math.sin(PI/2),\n",
    "math.tan(3*PI/2),\n",
    "math.acos(1/2),\n",
    "math.asin(1/2),\n",
    "math.atan(1/2))"
   ]
  }
 ],
 "metadata": {
  "kernelspec": {
   "display_name": "Python 3",
   "language": "python",
   "name": "python3"
  },
  "language_info": {
   "codemirror_mode": {
    "name": "ipython",
    "version": 3
   },
   "file_extension": ".py",
   "mimetype": "text/x-python",
   "name": "python",
   "nbconvert_exporter": "python",
   "pygments_lexer": "ipython3",
   "version": "3.12.0"
  }
 },
 "nbformat": 4,
 "nbformat_minor": 2
}
